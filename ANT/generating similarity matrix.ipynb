{
  "nbformat": 4,
  "nbformat_minor": 0,
  "metadata": {
    "colab": {
      "name": "similarity matrix for all kidney models.ipynb",
      "provenance": [],
      "collapsed_sections": [],
      "toc_visible": true,
      "machine_shape": "hm"
    },
    "kernelspec": {
      "name": "python3",
      "display_name": "Python 3"
    }
  },
  "cells": [
    {
      "cell_type": "markdown",
      "metadata": {
        "id": "grozm4G4WUti",
        "colab_type": "text"
      },
      "source": [
        "# <center>Generating a Similarity matrix</center>"
      ]
    },
    {
      "cell_type": "markdown",
      "metadata": {
        "id": "JgsdyTTeWLhD",
        "colab_type": "text"
      },
      "source": [
        "##### Installing and importing all the required modules"
      ]
    },
    {
      "cell_type": "code",
      "metadata": {
        "id": "Z44-QjJUznl5",
        "colab_type": "code",
        "colab": {}
      },
      "source": [
        "%%capture\n",
        "!pip install antspyx"
      ],
      "execution_count": 2,
      "outputs": []
    },
    {
      "cell_type": "code",
      "metadata": {
        "id": "_I8C8enm0Fgh",
        "colab_type": "code",
        "colab": {}
      },
      "source": [
        "import ants\n",
        "import numpy as np\n",
        "import os\n",
        "import pandas as pd\n",
        "from tqdm import tqdm\n",
        "\n",
        "import warnings\n",
        "warnings.filterwarnings(action='ignore')"
      ],
      "execution_count": null,
      "outputs": []
    },
    {
      "cell_type": "markdown",
      "metadata": {
        "id": "6PTAW8rqW4AC",
        "colab_type": "text"
      },
      "source": [
        "##### Loading the data"
      ]
    },
    {
      "cell_type": "code",
      "metadata": {
        "id": "ZpupYlmE0GWe",
        "colab_type": "code",
        "colab": {}
      },
      "source": [
        "data_dir=os.getcwd()\n",
        "\n",
        "files=[i for i in os.listdir(data_dir) if '.nii.gz' in i]\n",
        "files.sort()"
      ],
      "execution_count": 6,
      "outputs": []
    },
    {
      "cell_type": "markdown",
      "metadata": {
        "id": "UsEZhg0bW92m",
        "colab_type": "text"
      },
      "source": [
        "##### Generating the similarity matrix"
      ]
    },
    {
      "cell_type": "code",
      "metadata": {
        "id": "Kc0eiG5S_GTP",
        "colab_type": "code",
        "colab": {
          "base_uri": "https://localhost:8080/",
          "height": 90
        },
        "outputId": "d54a3898-6271-4e7f-8911-7df12aa5310c"
      },
      "source": [
        "file_to_ind={v:i for i,v in enumerate(files)}\n",
        "file_to_ind"
      ],
      "execution_count": 9,
      "outputs": [
        {
          "output_type": "execute_result",
          "data": {
            "text/plain": [
              "{'VHF_Kidney_L_High.nii.gz': 0,\n",
              " 'VHF_Kidney_R_High.nii.gz': 1,\n",
              " 'VHM_Kidney_L_High.nii.gz': 2,\n",
              " 'VHM_Kidney_R_High.nii.gz': 3}"
            ]
          },
          "metadata": {
            "tags": []
          },
          "execution_count": 9
        }
      ]
    },
    {
      "cell_type": "markdown",
      "metadata": {
        "colab_type": "text",
        "id": "sOjAOshrAVDL"
      },
      "source": [
        "##### Similarity based on Mean Squares Difference in Intensities"
      ]
    },
    {
      "cell_type": "code",
      "metadata": {
        "id": "wRHLPe1jBk4W",
        "colab_type": "code",
        "colab": {}
      },
      "source": [
        "target_image=ants.image_read('/content/VHF_Kidney_L_High.nii.gz')"
      ],
      "execution_count": 10,
      "outputs": []
    },
    {
      "cell_type": "code",
      "metadata": {
        "colab_type": "code",
        "id": "HgAVGbdpAVDM",
        "colab": {
          "base_uri": "https://localhost:8080/",
          "height": 90
        },
        "outputId": "2ad6b8fe-3c1f-49ce-c608-c08082055482"
      },
      "source": [
        "sim_mat=np.zeros((len(file_to_ind),len(file_to_ind)))\n",
        "sim_mat"
      ],
      "execution_count": 11,
      "outputs": [
        {
          "output_type": "execute_result",
          "data": {
            "text/plain": [
              "array([[0., 0., 0., 0.],\n",
              "       [0., 0., 0., 0.],\n",
              "       [0., 0., 0., 0.],\n",
              "       [0., 0., 0., 0.]])"
            ]
          },
          "metadata": {
            "tags": []
          },
          "execution_count": 11
        }
      ]
    },
    {
      "cell_type": "code",
      "metadata": {
        "colab_type": "code",
        "id": "_-i4gVTaAVDU",
        "colab": {
          "base_uri": "https://localhost:8080/",
          "height": 308
        },
        "outputId": "5934ddf9-cc9e-4890-8246-f8d90a3ff15e"
      },
      "source": [
        "for i in files:\n",
        "    img1=ants.image_read(os.path.join(data_dir,i)).resample_image_to_target(target_image)\n",
        "    for j in files:\n",
        "        img2=ants.image_read(os.path.join(data_dir,j)).resample_image_to_target(target_image)\n",
        "        temp=ants.image_similarity(img1,img2,metric_type='MeanSquares')\n",
        "        sim_mat[file_to_ind[i],file_to_ind[j]]=abs(temp)\n",
        "        print(f\"Mean Square difference between {i[:-12].replace('_Kidney','')} & {j[:-12].replace('_Kidney','')} ==> {abs(temp)}\")"
      ],
      "execution_count": 13,
      "outputs": [
        {
          "output_type": "stream",
          "text": [
            "Mean Square difference between VHF_L & VHF_L ==> 0.0\n",
            "Mean Square difference between VHF_L & VHF_R ==> inf\n",
            "Mean Square difference between VHF_L & VHM_L ==> inf\n",
            "Mean Square difference between VHF_L & VHM_R ==> inf\n",
            "Mean Square difference between VHF_R & VHF_L ==> inf\n",
            "Mean Square difference between VHF_R & VHF_R ==> 0.0\n",
            "Mean Square difference between VHF_R & VHM_L ==> 0.020688209682703018\n",
            "Mean Square difference between VHF_R & VHM_R ==> 0.020659802481532097\n",
            "Mean Square difference between VHM_L & VHF_L ==> inf\n",
            "Mean Square difference between VHM_L & VHF_R ==> 0.020688209682703018\n",
            "Mean Square difference between VHM_L & VHM_L ==> 0.0\n",
            "Mean Square difference between VHM_L & VHM_R ==> 0.00021376354561652988\n",
            "Mean Square difference between VHM_R & VHF_L ==> inf\n",
            "Mean Square difference between VHM_R & VHF_R ==> 0.020659802481532097\n",
            "Mean Square difference between VHM_R & VHM_L ==> 0.00021376354561652988\n",
            "Mean Square difference between VHM_R & VHM_R ==> 0.0\n"
          ],
          "name": "stdout"
        }
      ]
    },
    {
      "cell_type": "code",
      "metadata": {
        "colab_type": "code",
        "id": "Ng449bphAVDc",
        "colab": {
          "base_uri": "https://localhost:8080/",
          "height": 90
        },
        "outputId": "3af729f9-e740-4ac9-a774-44b2d143aeff"
      },
      "source": [
        "sim_mat"
      ],
      "execution_count": 14,
      "outputs": [
        {
          "output_type": "execute_result",
          "data": {
            "text/plain": [
              "array([[0.        ,        inf,        inf,        inf],\n",
              "       [       inf, 0.        , 0.02068821, 0.0206598 ],\n",
              "       [       inf, 0.02068821, 0.        , 0.00021376],\n",
              "       [       inf, 0.0206598 , 0.00021376, 0.        ]])"
            ]
          },
          "metadata": {
            "tags": []
          },
          "execution_count": 14
        }
      ]
    },
    {
      "cell_type": "code",
      "metadata": {
        "colab_type": "code",
        "id": "YhnLOlhJAVDg",
        "colab": {
          "base_uri": "https://localhost:8080/",
          "height": 211
        },
        "outputId": "957a8766-4ef1-4cfc-d010-5319a4aecc3c"
      },
      "source": [
        "print('Metric type: Mean Squares\\n')\n",
        "df=pd.DataFrame(sim_mat,index=[i[:-12].replace('_Kidney','') for i in file_to_ind.keys()],columns=[i[:-12].replace('_Kidney','') for i in file_to_ind.keys()])\n",
        "df.head()"
      ],
      "execution_count": 15,
      "outputs": [
        {
          "output_type": "stream",
          "text": [
            "Metric type: Mean Squares\n",
            "\n"
          ],
          "name": "stdout"
        },
        {
          "output_type": "execute_result",
          "data": {
            "text/html": [
              "<div>\n",
              "<style scoped>\n",
              "    .dataframe tbody tr th:only-of-type {\n",
              "        vertical-align: middle;\n",
              "    }\n",
              "\n",
              "    .dataframe tbody tr th {\n",
              "        vertical-align: top;\n",
              "    }\n",
              "\n",
              "    .dataframe thead th {\n",
              "        text-align: right;\n",
              "    }\n",
              "</style>\n",
              "<table border=\"1\" class=\"dataframe\">\n",
              "  <thead>\n",
              "    <tr style=\"text-align: right;\">\n",
              "      <th></th>\n",
              "      <th>VHF_L</th>\n",
              "      <th>VHF_R</th>\n",
              "      <th>VHM_L</th>\n",
              "      <th>VHM_R</th>\n",
              "    </tr>\n",
              "  </thead>\n",
              "  <tbody>\n",
              "    <tr>\n",
              "      <th>VHF_L</th>\n",
              "      <td>0.0</td>\n",
              "      <td>inf</td>\n",
              "      <td>inf</td>\n",
              "      <td>inf</td>\n",
              "    </tr>\n",
              "    <tr>\n",
              "      <th>VHF_R</th>\n",
              "      <td>inf</td>\n",
              "      <td>0.000000</td>\n",
              "      <td>0.020688</td>\n",
              "      <td>0.020660</td>\n",
              "    </tr>\n",
              "    <tr>\n",
              "      <th>VHM_L</th>\n",
              "      <td>inf</td>\n",
              "      <td>0.020688</td>\n",
              "      <td>0.000000</td>\n",
              "      <td>0.000214</td>\n",
              "    </tr>\n",
              "    <tr>\n",
              "      <th>VHM_R</th>\n",
              "      <td>inf</td>\n",
              "      <td>0.020660</td>\n",
              "      <td>0.000214</td>\n",
              "      <td>0.000000</td>\n",
              "    </tr>\n",
              "  </tbody>\n",
              "</table>\n",
              "</div>"
            ],
            "text/plain": [
              "       VHF_L     VHF_R     VHM_L     VHM_R\n",
              "VHF_L    0.0       inf       inf       inf\n",
              "VHF_R    inf  0.000000  0.020688  0.020660\n",
              "VHM_L    inf  0.020688  0.000000  0.000214\n",
              "VHM_R    inf  0.020660  0.000214  0.000000"
            ]
          },
          "metadata": {
            "tags": []
          },
          "execution_count": 15
        }
      ]
    },
    {
      "cell_type": "code",
      "metadata": {
        "colab_type": "code",
        "id": "-l6dXqd1AVDj",
        "colab": {}
      },
      "source": [
        "df.to_csv('similarity matrix_meansquares.csv')"
      ],
      "execution_count": 16,
      "outputs": []
    },
    {
      "cell_type": "markdown",
      "metadata": {
        "id": "zzXIM57rAHsh",
        "colab_type": "text"
      },
      "source": [
        "##### Similarity based on Correlation"
      ]
    },
    {
      "cell_type": "code",
      "metadata": {
        "id": "_Xf-Iude_Hw2",
        "colab_type": "code",
        "colab": {
          "base_uri": "https://localhost:8080/",
          "height": 90
        },
        "outputId": "c17339db-3c47-471c-fadb-0f207af43f02"
      },
      "source": [
        "sim_mat=np.zeros((len(file_to_ind),len(file_to_ind)))\n",
        "sim_mat"
      ],
      "execution_count": 17,
      "outputs": [
        {
          "output_type": "execute_result",
          "data": {
            "text/plain": [
              "array([[0., 0., 0., 0.],\n",
              "       [0., 0., 0., 0.],\n",
              "       [0., 0., 0., 0.],\n",
              "       [0., 0., 0., 0.]])"
            ]
          },
          "metadata": {
            "tags": []
          },
          "execution_count": 17
        }
      ]
    },
    {
      "cell_type": "code",
      "metadata": {
        "id": "dPUB_vrQ_JOc",
        "colab_type": "code",
        "colab": {
          "base_uri": "https://localhost:8080/",
          "height": 308
        },
        "outputId": "5c9ecda8-9268-4b24-dfa3-cac9d9553ad2"
      },
      "source": [
        "for i in files:\n",
        "    img1=ants.image_read(os.path.join(data_dir,i)).resample_image_to_target(target_image)\n",
        "    for j in files:\n",
        "        img2=ants.image_read(os.path.join(data_dir,j)).resample_image_to_target(target_image)\n",
        "        temp=ants.image_similarity(img1,img2,metric_type='Correlation')\n",
        "        sim_mat[file_to_ind[i],file_to_ind[j]]=abs(temp)\n",
        "        print(f\"Similarity between {i[:-12].replace('_Kidney','')} & {j[:-12].replace('_Kidney','')} ==> {abs(temp)}\")"
      ],
      "execution_count": 18,
      "outputs": [
        {
          "output_type": "stream",
          "text": [
            "Similarity between VHF_L & VHF_L ==> 1.0\n",
            "Similarity between VHF_L & VHF_R ==> 3.5264458020378697e-10\n",
            "Similarity between VHF_L & VHM_L ==> 2.6301888184782074e-12\n",
            "Similarity between VHF_L & VHM_R ==> 2.1689054632151317e-12\n",
            "Similarity between VHF_R & VHF_L ==> 3.5264458020378697e-10\n",
            "Similarity between VHF_R & VHF_R ==> 1.0\n",
            "Similarity between VHF_R & VHM_L ==> 8.353114026249386e-06\n",
            "Similarity between VHF_R & VHM_R ==> 6.888142706884537e-06\n",
            "Similarity between VHM_L & VHF_L ==> 2.6301888184782074e-12\n",
            "Similarity between VHM_L & VHF_R ==> 8.353114026249386e-06\n",
            "Similarity between VHM_L & VHM_L ==> 1.0\n",
            "Similarity between VHM_L & VHM_R ==> 0.025107936933636665\n",
            "Similarity between VHM_R & VHF_L ==> 2.1689054632151317e-12\n",
            "Similarity between VHM_R & VHF_R ==> 6.888142706884537e-06\n",
            "Similarity between VHM_R & VHM_L ==> 0.025107936933636665\n",
            "Similarity between VHM_R & VHM_R ==> 1.0\n"
          ],
          "name": "stdout"
        }
      ]
    },
    {
      "cell_type": "code",
      "metadata": {
        "id": "wgQcnfs9ADvu",
        "colab_type": "code",
        "colab": {
          "base_uri": "https://localhost:8080/",
          "height": 90
        },
        "outputId": "9c53066e-0827-40bd-d949-f36ab2b43d3b"
      },
      "source": [
        "sim_mat"
      ],
      "execution_count": 19,
      "outputs": [
        {
          "output_type": "execute_result",
          "data": {
            "text/plain": [
              "array([[1.00000000e+00, 3.52644580e-10, 2.63018882e-12, 2.16890546e-12],\n",
              "       [3.52644580e-10, 1.00000000e+00, 8.35311403e-06, 6.88814271e-06],\n",
              "       [2.63018882e-12, 8.35311403e-06, 1.00000000e+00, 2.51079369e-02],\n",
              "       [2.16890546e-12, 6.88814271e-06, 2.51079369e-02, 1.00000000e+00]])"
            ]
          },
          "metadata": {
            "tags": []
          },
          "execution_count": 19
        }
      ]
    },
    {
      "cell_type": "code",
      "metadata": {
        "id": "KOAR2i-5DKu6",
        "colab_type": "code",
        "colab": {
          "base_uri": "https://localhost:8080/",
          "height": 211
        },
        "outputId": "998829ae-98dd-4e3b-e677-f15010f150c7"
      },
      "source": [
        "print('Metric type: Correlation\\n')\n",
        "df=pd.DataFrame(sim_mat,index=[i[:-12].replace('_Kidney','') for i in file_to_ind.keys()],columns=[i[:-12].replace('_Kidney','') for i in file_to_ind.keys()])\n",
        "df.head()"
      ],
      "execution_count": 20,
      "outputs": [
        {
          "output_type": "stream",
          "text": [
            "Metric type: Correlation\n",
            "\n"
          ],
          "name": "stdout"
        },
        {
          "output_type": "execute_result",
          "data": {
            "text/html": [
              "<div>\n",
              "<style scoped>\n",
              "    .dataframe tbody tr th:only-of-type {\n",
              "        vertical-align: middle;\n",
              "    }\n",
              "\n",
              "    .dataframe tbody tr th {\n",
              "        vertical-align: top;\n",
              "    }\n",
              "\n",
              "    .dataframe thead th {\n",
              "        text-align: right;\n",
              "    }\n",
              "</style>\n",
              "<table border=\"1\" class=\"dataframe\">\n",
              "  <thead>\n",
              "    <tr style=\"text-align: right;\">\n",
              "      <th></th>\n",
              "      <th>VHF_L</th>\n",
              "      <th>VHF_R</th>\n",
              "      <th>VHM_L</th>\n",
              "      <th>VHM_R</th>\n",
              "    </tr>\n",
              "  </thead>\n",
              "  <tbody>\n",
              "    <tr>\n",
              "      <th>VHF_L</th>\n",
              "      <td>1.000000e+00</td>\n",
              "      <td>3.526446e-10</td>\n",
              "      <td>2.630189e-12</td>\n",
              "      <td>2.168905e-12</td>\n",
              "    </tr>\n",
              "    <tr>\n",
              "      <th>VHF_R</th>\n",
              "      <td>3.526446e-10</td>\n",
              "      <td>1.000000e+00</td>\n",
              "      <td>8.353114e-06</td>\n",
              "      <td>6.888143e-06</td>\n",
              "    </tr>\n",
              "    <tr>\n",
              "      <th>VHM_L</th>\n",
              "      <td>2.630189e-12</td>\n",
              "      <td>8.353114e-06</td>\n",
              "      <td>1.000000e+00</td>\n",
              "      <td>2.510794e-02</td>\n",
              "    </tr>\n",
              "    <tr>\n",
              "      <th>VHM_R</th>\n",
              "      <td>2.168905e-12</td>\n",
              "      <td>6.888143e-06</td>\n",
              "      <td>2.510794e-02</td>\n",
              "      <td>1.000000e+00</td>\n",
              "    </tr>\n",
              "  </tbody>\n",
              "</table>\n",
              "</div>"
            ],
            "text/plain": [
              "              VHF_L         VHF_R         VHM_L         VHM_R\n",
              "VHF_L  1.000000e+00  3.526446e-10  2.630189e-12  2.168905e-12\n",
              "VHF_R  3.526446e-10  1.000000e+00  8.353114e-06  6.888143e-06\n",
              "VHM_L  2.630189e-12  8.353114e-06  1.000000e+00  2.510794e-02\n",
              "VHM_R  2.168905e-12  6.888143e-06  2.510794e-02  1.000000e+00"
            ]
          },
          "metadata": {
            "tags": []
          },
          "execution_count": 20
        }
      ]
    },
    {
      "cell_type": "code",
      "metadata": {
        "id": "-9qbq9u-MlaW",
        "colab_type": "code",
        "colab": {}
      },
      "source": [
        "df.to_csv('similarity matrix_correlation.csv')"
      ],
      "execution_count": 21,
      "outputs": []
    }
  ]
}