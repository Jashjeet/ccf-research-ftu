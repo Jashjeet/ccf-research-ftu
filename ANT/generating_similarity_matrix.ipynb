{
 "cells": [
  {
   "cell_type": "markdown",
   "metadata": {
    "colab_type": "text",
    "id": "grozm4G4WUti"
   },
   "source": [
    "# <center>Generating a Similarity matrix</center>"
   ]
  },
  {
   "cell_type": "markdown",
   "metadata": {
    "colab_type": "text",
    "id": "JgsdyTTeWLhD"
   },
   "source": [
    "##### Loading the required modules"
   ]
  },
  {
   "cell_type": "code",
   "execution_count": null,
   "metadata": {
    "colab": {},
    "colab_type": "code",
    "id": "_I8C8enm0Fgh"
   },
   "outputs": [],
   "source": [
    "import ants\n",
    "import trimesh\n",
    "import stl\n",
    "import numpy as np\n",
    "import vtkplotter as vtk\n",
    "import os\n",
    "import pandas as pd\n",
    "from tqdm import tqdm\n",
    "\n",
    "import warnings\n",
    "warnings.filterwarnings(action='ignore')"
   ]
  },
  {
   "cell_type": "code",
   "execution_count": 4,
   "metadata": {
    "colab": {},
    "colab_type": "code",
    "executionInfo": {
     "elapsed": 240,
     "status": "ok",
     "timestamp": 1595428143143,
     "user": {
      "displayName": "Sumeet Sarode",
      "photoUrl": "https://lh3.googleusercontent.com/a-/AOh14GiU1ok9522uiRruNbIUYjEXyUipoUmi6GpDZyhL=s64",
      "userId": "00259634971765077416"
     },
     "user_tz": 240
    },
    "id": "ZpupYlmE0GWe"
   },
   "outputs": [],
   "source": [
    "data_dir=os.getcwd()\n",
    "\n",
    "files=[i for i in os.listdir(data_dir)]\n",
    "files.sort()"
   ]
  },
  {
   "cell_type": "markdown",
   "metadata": {
    "colab_type": "text",
    "id": "UsEZhg0bW92m"
   },
   "source": [
    "##### Generating the similarity matrix"
   ]
  },
  {
   "cell_type": "code",
   "execution_count": 5,
   "metadata": {
    "colab": {
     "base_uri": "https://localhost:8080/",
     "height": 88
    },
    "colab_type": "code",
    "executionInfo": {
     "elapsed": 466,
     "status": "ok",
     "timestamp": 1595261734239,
     "user": {
      "displayName": "Sumeet Sarode",
      "photoUrl": "https://lh3.googleusercontent.com/a-/AOh14GiU1ok9522uiRruNbIUYjEXyUipoUmi6GpDZyhL=s64",
      "userId": "00259634971765077416"
     },
     "user_tz": 240
    },
    "id": "Kc0eiG5S_GTP",
    "outputId": "c7476a60-6503-4c5b-8edf-5e13c00495e1"
   },
   "outputs": [
    {
     "data": {
      "text/plain": [
       "{'VHF_Kidney_L_High.nii.gz': 0,\n",
       " 'VHF_Kidney_R_High.nii.gz': 1,\n",
       " 'VHM_Kidney_L_High.nii.gz': 2,\n",
       " 'VHM_Kidney_R_High.nii.gz': 3}"
      ]
     },
     "execution_count": 5,
     "metadata": {
      "tags": []
     },
     "output_type": "execute_result"
    }
   ],
   "source": [
    "file_to_ind={v:i for i,v in enumerate(files)}\n",
    "file_to_ind"
   ]
  },
  {
   "cell_type": "markdown",
   "metadata": {
    "colab_type": "text",
    "id": "sOjAOshrAVDL"
   },
   "source": [
    "##### Similarity based on Mean Squares Difference in Intensities"
   ]
  },
  {
   "cell_type": "code",
   "execution_count": 6,
   "metadata": {
    "colab": {
     "base_uri": "https://localhost:8080/",
     "height": 88
    },
    "colab_type": "code",
    "executionInfo": {
     "elapsed": 457,
     "status": "ok",
     "timestamp": 1595261737829,
     "user": {
      "displayName": "Sumeet Sarode",
      "photoUrl": "https://lh3.googleusercontent.com/a-/AOh14GiU1ok9522uiRruNbIUYjEXyUipoUmi6GpDZyhL=s64",
      "userId": "00259634971765077416"
     },
     "user_tz": 240
    },
    "id": "HgAVGbdpAVDM",
    "outputId": "19f26afa-a19a-47db-dc2d-0547df3fa388"
   },
   "outputs": [
    {
     "data": {
      "text/plain": [
       "array([[0., 0., 0., 0.],\n",
       "       [0., 0., 0., 0.],\n",
       "       [0., 0., 0., 0.],\n",
       "       [0., 0., 0., 0.]])"
      ]
     },
     "execution_count": 6,
     "metadata": {
      "tags": []
     },
     "output_type": "execute_result"
    }
   ],
   "source": [
    "sim_mat=np.zeros((len(file_to_ind),len(file_to_ind)))\n",
    "sim_mat"
   ]
  },
  {
   "cell_type": "code",
   "execution_count": 7,
   "metadata": {
    "colab": {
     "base_uri": "https://localhost:8080/",
     "height": 301
    },
    "colab_type": "code",
    "executionInfo": {
     "elapsed": 488841,
     "status": "ok",
     "timestamp": 1595262226982,
     "user": {
      "displayName": "Sumeet Sarode",
      "photoUrl": "https://lh3.googleusercontent.com/a-/AOh14GiU1ok9522uiRruNbIUYjEXyUipoUmi6GpDZyhL=s64",
      "userId": "00259634971765077416"
     },
     "user_tz": 240
    },
    "id": "_-i4gVTaAVDU",
    "outputId": "bcf645b9-c150-4904-b0d6-975b2bf51a19"
   },
   "outputs": [
    {
     "name": "stdout",
     "output_type": "stream",
     "text": [
      "Similarity between VHF_L & VHF_L ==> 0.0\n",
      "Similarity between VHF_L & VHF_R ==> inf\n",
      "Similarity between VHF_L & VHM_L ==> 0.0727512538433075\n",
      "Similarity between VHF_L & VHM_R ==> 0.10829870402812958\n",
      "Similarity between VHF_R & VHF_L ==> inf\n",
      "Similarity between VHF_R & VHF_R ==> 0.0\n",
      "Similarity between VHF_R & VHM_L ==> 0.07296775281429291\n",
      "Similarity between VHF_R & VHM_R ==> 0.10800246894359589\n",
      "Similarity between VHM_L & VHF_L ==> 0.07292565703392029\n",
      "Similarity between VHM_L & VHF_R ==> 0.07292565703392029\n",
      "Similarity between VHM_L & VHM_L ==> 0.0\n",
      "Similarity between VHM_L & VHM_R ==> 0.15292207896709442\n",
      "Similarity between VHM_R & VHF_L ==> 0.1086125522851944\n",
      "Similarity between VHM_R & VHF_R ==> 0.1086125522851944\n",
      "Similarity between VHM_R & VHM_L ==> 0.1527940034866333\n",
      "Similarity between VHM_R & VHM_R ==> 0.0\n"
     ]
    }
   ],
   "source": [
    "for i in files:\n",
    "    img1=ants.image_read(os.path.join(data_dir,i))\n",
    "    for j in files:\n",
    "        \n",
    "#         loading the data as antsimage\n",
    "        img2=ants.image_read(os.path.join(data_dir,j))\n",
    "    \n",
    "        temp=ants.image_similarity(img1,img2,metric_type='MeanSquares')\n",
    "        sim_mat[file_to_ind[i],file_to_ind[j]]=abs(temp)\n",
    "        print(f\"Similarity between {i[:-12].replace('_Kidney','')} & {j[:-12].replace('_Kidney','')} ==> {abs(temp)}\")"
   ]
  },
  {
   "cell_type": "code",
   "execution_count": 8,
   "metadata": {
    "colab": {
     "base_uri": "https://localhost:8080/",
     "height": 88
    },
    "colab_type": "code",
    "executionInfo": {
     "elapsed": 487800,
     "status": "ok",
     "timestamp": 1595262226983,
     "user": {
      "displayName": "Sumeet Sarode",
      "photoUrl": "https://lh3.googleusercontent.com/a-/AOh14GiU1ok9522uiRruNbIUYjEXyUipoUmi6GpDZyhL=s64",
      "userId": "00259634971765077416"
     },
     "user_tz": 240
    },
    "id": "Ng449bphAVDc",
    "outputId": "bebdf3ce-6bf4-4785-8708-320aa4e63989"
   },
   "outputs": [
    {
     "data": {
      "text/plain": [
       "array([[0.        ,        inf, 0.07275125, 0.1082987 ],\n",
       "       [       inf, 0.        , 0.07296775, 0.10800247],\n",
       "       [0.07292566, 0.07292566, 0.        , 0.15292208],\n",
       "       [0.10861255, 0.10861255, 0.152794  , 0.        ]])"
      ]
     },
     "execution_count": 8,
     "metadata": {
      "tags": []
     },
     "output_type": "execute_result"
    }
   ],
   "source": [
    "sim_mat"
   ]
  },
  {
   "cell_type": "code",
   "execution_count": 9,
   "metadata": {
    "colab": {
     "base_uri": "https://localhost:8080/",
     "height": 200
    },
    "colab_type": "code",
    "executionInfo": {
     "elapsed": 474,
     "status": "ok",
     "timestamp": 1595262227503,
     "user": {
      "displayName": "Sumeet Sarode",
      "photoUrl": "https://lh3.googleusercontent.com/a-/AOh14GiU1ok9522uiRruNbIUYjEXyUipoUmi6GpDZyhL=s64",
      "userId": "00259634971765077416"
     },
     "user_tz": 240
    },
    "id": "YhnLOlhJAVDg",
    "outputId": "0b6a5529-ee64-4899-fec4-bdb651b957f8"
   },
   "outputs": [
    {
     "name": "stdout",
     "output_type": "stream",
     "text": [
      "Metric type: Mean Squares\n",
      "\n"
     ]
    },
    {
     "data": {
      "text/html": [
       "<div>\n",
       "<style scoped>\n",
       "    .dataframe tbody tr th:only-of-type {\n",
       "        vertical-align: middle;\n",
       "    }\n",
       "\n",
       "    .dataframe tbody tr th {\n",
       "        vertical-align: top;\n",
       "    }\n",
       "\n",
       "    .dataframe thead th {\n",
       "        text-align: right;\n",
       "    }\n",
       "</style>\n",
       "<table border=\"1\" class=\"dataframe\">\n",
       "  <thead>\n",
       "    <tr style=\"text-align: right;\">\n",
       "      <th></th>\n",
       "      <th>VHF_L</th>\n",
       "      <th>VHF_R</th>\n",
       "      <th>VHM_L</th>\n",
       "      <th>VHM_R</th>\n",
       "    </tr>\n",
       "  </thead>\n",
       "  <tbody>\n",
       "    <tr>\n",
       "      <th>VHF_L</th>\n",
       "      <td>0.000000</td>\n",
       "      <td>inf</td>\n",
       "      <td>0.072751</td>\n",
       "      <td>0.108299</td>\n",
       "    </tr>\n",
       "    <tr>\n",
       "      <th>VHF_R</th>\n",
       "      <td>inf</td>\n",
       "      <td>0.000000</td>\n",
       "      <td>0.072968</td>\n",
       "      <td>0.108002</td>\n",
       "    </tr>\n",
       "    <tr>\n",
       "      <th>VHM_L</th>\n",
       "      <td>0.072926</td>\n",
       "      <td>0.072926</td>\n",
       "      <td>0.000000</td>\n",
       "      <td>0.152922</td>\n",
       "    </tr>\n",
       "    <tr>\n",
       "      <th>VHM_R</th>\n",
       "      <td>0.108613</td>\n",
       "      <td>0.108613</td>\n",
       "      <td>0.152794</td>\n",
       "      <td>0.000000</td>\n",
       "    </tr>\n",
       "  </tbody>\n",
       "</table>\n",
       "</div>"
      ],
      "text/plain": [
       "          VHF_L     VHF_R     VHM_L     VHM_R\n",
       "VHF_L  0.000000       inf  0.072751  0.108299\n",
       "VHF_R       inf  0.000000  0.072968  0.108002\n",
       "VHM_L  0.072926  0.072926  0.000000  0.152922\n",
       "VHM_R  0.108613  0.108613  0.152794  0.000000"
      ]
     },
     "execution_count": 9,
     "metadata": {
      "tags": []
     },
     "output_type": "execute_result"
    }
   ],
   "source": [
    "print('Metric type: Mean Squares\\n')\n",
    "df=pd.DataFrame(sim_mat,index=[i[:-12].replace('_Kidney','') for i in file_to_ind.keys()],\\\n",
    "                columns=[i[:-12].replace('_Kidney','') for i in file_to_ind.keys()])\n",
    "\n",
    "# storing the similarity matrix in a csv file\n",
    "df.to_csv('similarity matrix_meansquares.csv')\n",
    "\n",
    "df.head()"
   ]
  },
  {
   "cell_type": "markdown",
   "metadata": {
    "colab_type": "text",
    "id": "zzXIM57rAHsh"
   },
   "source": [
    "##### Similarity based on Correlation"
   ]
  },
  {
   "cell_type": "code",
   "execution_count": 11,
   "metadata": {
    "colab": {
     "base_uri": "https://localhost:8080/",
     "height": 88
    },
    "colab_type": "code",
    "executionInfo": {
     "elapsed": 567,
     "status": "ok",
     "timestamp": 1595262227637,
     "user": {
      "displayName": "Sumeet Sarode",
      "photoUrl": "https://lh3.googleusercontent.com/a-/AOh14GiU1ok9522uiRruNbIUYjEXyUipoUmi6GpDZyhL=s64",
      "userId": "00259634971765077416"
     },
     "user_tz": 240
    },
    "id": "_Xf-Iude_Hw2",
    "outputId": "c77174fc-798e-49d4-85fb-a9a231ac068f"
   },
   "outputs": [
    {
     "data": {
      "text/plain": [
       "array([[0., 0., 0., 0.],\n",
       "       [0., 0., 0., 0.],\n",
       "       [0., 0., 0., 0.],\n",
       "       [0., 0., 0., 0.]])"
      ]
     },
     "execution_count": 11,
     "metadata": {
      "tags": []
     },
     "output_type": "execute_result"
    }
   ],
   "source": [
    "sim_mat=np.zeros((len(file_to_ind),len(file_to_ind)))\n",
    "sim_mat"
   ]
  },
  {
   "cell_type": "code",
   "execution_count": 12,
   "metadata": {
    "colab": {
     "base_uri": "https://localhost:8080/",
     "height": 301
    },
    "colab_type": "code",
    "executionInfo": {
     "elapsed": 480720,
     "status": "ok",
     "timestamp": 1595262707812,
     "user": {
      "displayName": "Sumeet Sarode",
      "photoUrl": "https://lh3.googleusercontent.com/a-/AOh14GiU1ok9522uiRruNbIUYjEXyUipoUmi6GpDZyhL=s64",
      "userId": "00259634971765077416"
     },
     "user_tz": 240
    },
    "id": "dPUB_vrQ_JOc",
    "outputId": "4c19f75e-f37f-4f51-8ed4-bc5864e7ddcd"
   },
   "outputs": [
    {
     "name": "stdout",
     "output_type": "stream",
     "text": [
      "Similarity between VHF_L & VHF_L ==> 1.0\n",
      "Similarity between VHF_L & VHF_R ==> 2.0714729931370357e-10\n",
      "Similarity between VHF_L & VHM_L ==> 0.0\n",
      "Similarity between VHF_L & VHM_R ==> 0.0\n",
      "Similarity between VHF_R & VHF_L ==> 6.871126445595621e-10\n",
      "Similarity between VHF_R & VHF_R ==> 1.0\n",
      "Similarity between VHF_R & VHM_L ==> 0.0\n",
      "Similarity between VHF_R & VHM_R ==> 0.0\n",
      "Similarity between VHM_L & VHF_L ==> 0.0\n",
      "Similarity between VHM_L & VHF_R ==> 0.0\n",
      "Similarity between VHM_L & VHM_L ==> 1.0\n",
      "Similarity between VHM_L & VHM_R ==> 0.003166231792420149\n",
      "Similarity between VHM_R & VHF_L ==> 0.0\n",
      "Similarity between VHM_R & VHF_R ==> 0.0\n",
      "Similarity between VHM_R & VHM_L ==> 0.003174081677570939\n",
      "Similarity between VHM_R & VHM_R ==> 1.0\n"
     ]
    }
   ],
   "source": [
    "for i in files:\n",
    "    img1=ants.image_read(os.path.join(data_dir,i))\n",
    "    for j in files:\n",
    "        img2=ants.image_read(os.path.join(data_dir,j))\n",
    "        temp=ants.image_similarity(img1,img2,metric_type='Correlation')\n",
    "        sim_mat[file_to_ind[i],file_to_ind[j]]=abs(temp)\n",
    "        print(f\"Similarity between {i[:-12].replace('_Kidney','')} & {j[:-12].replace('_Kidney','')} ==> {abs(temp)}\")"
   ]
  },
  {
   "cell_type": "code",
   "execution_count": 13,
   "metadata": {
    "colab": {
     "base_uri": "https://localhost:8080/",
     "height": 88
    },
    "colab_type": "code",
    "executionInfo": {
     "elapsed": 480699,
     "status": "ok",
     "timestamp": 1595262707820,
     "user": {
      "displayName": "Sumeet Sarode",
      "photoUrl": "https://lh3.googleusercontent.com/a-/AOh14GiU1ok9522uiRruNbIUYjEXyUipoUmi6GpDZyhL=s64",
      "userId": "00259634971765077416"
     },
     "user_tz": 240
    },
    "id": "wgQcnfs9ADvu",
    "outputId": "3df3fca5-54be-4e64-dbba-5cf43948d8d5"
   },
   "outputs": [
    {
     "data": {
      "text/plain": [
       "array([[1.00000000e+00, 2.07147299e-10, 0.00000000e+00, 0.00000000e+00],\n",
       "       [6.87112645e-10, 1.00000000e+00, 0.00000000e+00, 0.00000000e+00],\n",
       "       [0.00000000e+00, 0.00000000e+00, 1.00000000e+00, 3.16623179e-03],\n",
       "       [0.00000000e+00, 0.00000000e+00, 3.17408168e-03, 1.00000000e+00]])"
      ]
     },
     "execution_count": 13,
     "metadata": {
      "tags": []
     },
     "output_type": "execute_result"
    }
   ],
   "source": [
    "sim_mat"
   ]
  },
  {
   "cell_type": "code",
   "execution_count": 14,
   "metadata": {
    "colab": {
     "base_uri": "https://localhost:8080/",
     "height": 200
    },
    "colab_type": "code",
    "executionInfo": {
     "elapsed": 480680,
     "status": "ok",
     "timestamp": 1595262707822,
     "user": {
      "displayName": "Sumeet Sarode",
      "photoUrl": "https://lh3.googleusercontent.com/a-/AOh14GiU1ok9522uiRruNbIUYjEXyUipoUmi6GpDZyhL=s64",
      "userId": "00259634971765077416"
     },
     "user_tz": 240
    },
    "id": "KOAR2i-5DKu6",
    "outputId": "083afeaf-e89b-483f-dee0-a52eda216b96"
   },
   "outputs": [
    {
     "name": "stdout",
     "output_type": "stream",
     "text": [
      "Metric type: Correlation\n",
      "\n"
     ]
    },
    {
     "data": {
      "text/html": [
       "<div>\n",
       "<style scoped>\n",
       "    .dataframe tbody tr th:only-of-type {\n",
       "        vertical-align: middle;\n",
       "    }\n",
       "\n",
       "    .dataframe tbody tr th {\n",
       "        vertical-align: top;\n",
       "    }\n",
       "\n",
       "    .dataframe thead th {\n",
       "        text-align: right;\n",
       "    }\n",
       "</style>\n",
       "<table border=\"1\" class=\"dataframe\">\n",
       "  <thead>\n",
       "    <tr style=\"text-align: right;\">\n",
       "      <th></th>\n",
       "      <th>VHF_L</th>\n",
       "      <th>VHF_R</th>\n",
       "      <th>VHM_L</th>\n",
       "      <th>VHM_R</th>\n",
       "    </tr>\n",
       "  </thead>\n",
       "  <tbody>\n",
       "    <tr>\n",
       "      <th>VHF_L</th>\n",
       "      <td>1.000000e+00</td>\n",
       "      <td>2.071473e-10</td>\n",
       "      <td>0.000000</td>\n",
       "      <td>0.000000</td>\n",
       "    </tr>\n",
       "    <tr>\n",
       "      <th>VHF_R</th>\n",
       "      <td>6.871126e-10</td>\n",
       "      <td>1.000000e+00</td>\n",
       "      <td>0.000000</td>\n",
       "      <td>0.000000</td>\n",
       "    </tr>\n",
       "    <tr>\n",
       "      <th>VHM_L</th>\n",
       "      <td>0.000000e+00</td>\n",
       "      <td>0.000000e+00</td>\n",
       "      <td>1.000000</td>\n",
       "      <td>0.003166</td>\n",
       "    </tr>\n",
       "    <tr>\n",
       "      <th>VHM_R</th>\n",
       "      <td>0.000000e+00</td>\n",
       "      <td>0.000000e+00</td>\n",
       "      <td>0.003174</td>\n",
       "      <td>1.000000</td>\n",
       "    </tr>\n",
       "  </tbody>\n",
       "</table>\n",
       "</div>"
      ],
      "text/plain": [
       "              VHF_L         VHF_R     VHM_L     VHM_R\n",
       "VHF_L  1.000000e+00  2.071473e-10  0.000000  0.000000\n",
       "VHF_R  6.871126e-10  1.000000e+00  0.000000  0.000000\n",
       "VHM_L  0.000000e+00  0.000000e+00  1.000000  0.003166\n",
       "VHM_R  0.000000e+00  0.000000e+00  0.003174  1.000000"
      ]
     },
     "execution_count": 14,
     "metadata": {
      "tags": []
     },
     "output_type": "execute_result"
    }
   ],
   "source": [
    "print('Metric type: Correlation\\n')\n",
    "df=pd.DataFrame(sim_mat,index=[i[:-12].replace('_Kidney','') for i in file_to_ind.keys()],\\\n",
    "                columns=[i[:-12].replace('_Kidney','') for i in file_to_ind.keys()])\n",
    "\n",
    "# storing the similarity matrix in a csv file\n",
    "df.to_csv('similarity matrix_correlation.csv')\n",
    "\n",
    "df.head()"
   ]
  }
 ],
 "metadata": {
  "accelerator": "TPU",
  "colab": {
   "collapsed_sections": [],
   "machine_shape": "hm",
   "name": "hubmap_similarity_consensus kidney.ipynb",
   "provenance": [
    {
     "file_id": "14GVjUMm8lAr065G9O0IqBbCT7s2ZzQpO",
     "timestamp": 1594763582197
    },
    {
     "file_id": "155S_bb3viIoL0wAwkIyr1r8XQu4ARwA9",
     "timestamp": 1594762188513
    }
   ],
   "toc_visible": true
  },
  "kernelspec": {
   "display_name": "Python 3",
   "language": "python",
   "name": "python3"
  },
  "language_info": {
   "codemirror_mode": {
    "name": "ipython",
    "version": 3
   },
   "file_extension": ".py",
   "mimetype": "text/x-python",
   "name": "python",
   "nbconvert_exporter": "python",
   "pygments_lexer": "ipython3",
   "version": "3.7.4"
  }
 },
 "nbformat": 4,
 "nbformat_minor": 1
}
