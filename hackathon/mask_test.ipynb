{
 "cells": [
  {
   "cell_type": "code",
   "execution_count": 1,
   "metadata": {
    "pycharm": {
     "name": "#%%\n"
    }
   },
   "outputs": [],
   "source": [
    "import cv2\n",
    "import json\n",
    "import os\n",
    "import csv\n",
    "import numpy as np\n",
    "import matplotlib.pyplot as plt\n",
    "from PIL import Image, ImageDraw"
   ]
  },
  {
   "cell_type": "code",
   "execution_count": 2,
   "metadata": {
    "pycharm": {
     "name": "#%%\n"
    }
   },
   "outputs": [
    {
     "data": {
      "text/plain": [
       "{'type': 'Feature',\n",
       " 'id': 'PathAnnotationObject',\n",
       " 'geometry': {'type': 'Polygon',\n",
       "  'coordinates': [[[2553, 12397],\n",
       "    [2495, 12449],\n",
       "    [2491, 12528],\n",
       "    [2505, 12606],\n",
       "    [2552, 12663],\n",
       "    [2583, 12673],\n",
       "    [2647, 12663],\n",
       "    [2725, 12612],\n",
       "    [2731, 12578],\n",
       "    [2642, 12419],\n",
       "    [2597, 12397],\n",
       "    [2553, 12397]]]},\n",
       " 'properties': {'classification': {'name': 'glomerulus', 'colorRGB': -3140401},\n",
       "  'isLocked': True,\n",
       "  'measurements': []}}"
      ]
     },
     "execution_count": 2,
     "metadata": {},
     "output_type": "execute_result"
    }
   ],
   "source": [
    "json_filename = '../visualization/annotations/VAN0003-LK-33-2-PAS_FFPE_glom_annotations.json'\n",
    "read_file = open(json_filename, \"r\") \n",
    "data = json.load(read_file)\n",
    "data[0]"
   ]
  },
  {
   "cell_type": "code",
   "execution_count": 3,
   "metadata": {
    "pycharm": {
     "name": "#%%\n"
    }
   },
   "outputs": [],
   "source": [
    "polys = []\n",
    "for index in range(data.__len__()):\n",
    "    geom = np.array(data[index]['geometry']['coordinates'])\n",
    "    polys.append(geom)\n",
    "\n",
    "# the shape of the image, h * w\n",
    "shape = (18484, 13013)"
   ]
  },
  {
   "cell_type": "markdown",
   "metadata": {},
   "source": [
    "# Ref code for converting polygon vector into pixel masks\n",
    "\n",
    "## Method 1"
   ]
  },
  {
   "cell_type": "code",
   "execution_count": 4,
   "metadata": {
    "pycharm": {
     "name": "#%%\n"
    }
   },
   "outputs": [
    {
     "data": {
      "text/plain": [
       "<matplotlib.image.AxesImage at 0x1c48cbe7630>"
      ]
     },
     "execution_count": 4,
     "metadata": {},
     "output_type": "execute_result"
    },
    {
     "data": {
      "image/png": "[encoded data removed]",
      "text/plain": [
       "<Figure size 432x288 with 1 Axes>"
      ]
     },
     "metadata": {
      "needs_background": "light"
     },
     "output_type": "display_data"
    }
   ],
   "source": [
    "mask_1 = np.zeros(shape)\n",
    "for i in range(len(polys)):\n",
    "    cv2.fillPoly(mask_1, polys[i], i+1)\n",
    "\n",
    "plt.imshow(mask_1)"
   ]
  },
  {
   "cell_type": "markdown",
   "metadata": {},
   "source": [
    "# Ref code for converting polygon vector into pixel masks\n",
    "\n",
    "## Method 2"
   ]
  },
  {
   "cell_type": "code",
   "execution_count": 5,
   "metadata": {
    "pycharm": {
     "name": "#%%\n"
    }
   },
   "outputs": [
    {
     "data": {
      "text/plain": [
       "<matplotlib.image.AxesImage at 0x1c4ab0a3c18>"
      ]
     },
     "execution_count": 5,
     "metadata": {},
     "output_type": "execute_result"
    },
    {
     "data": {
      "image/png": "[encoded data removed]",
      "text/plain": [
       "<Figure size 432x288 with 1 Axes>"
      ]
     },
     "metadata": {
      "needs_background": "light"
     },
     "output_type": "display_data"
    }
   ],
   "source": [
    "Image.MAX_IMAGE_PIXELS = None\n",
    "img = Image.new('L', (shape[1], shape[0]), 0)  # (w, h)\n",
    "for i in range(len(polys)):\n",
    "    poly = polys[i]\n",
    "    ImageDraw.Draw(img).polygon(tuple(map(tuple, poly[0])), outline=i + 1, fill=i + 1) \n",
    "\n",
    "mask_2 = np.array(img)\n",
    "plt.imshow(mask_2)"
   ]
  },
  {
   "cell_type": "markdown",
   "metadata": {},
   "source": [
    "# Run-length encoding"
   ]
  },
  {
   "cell_type": "markdown",
   "metadata": {},
   "source": [
    "In order to reduce the submission file size, teams must submit segmentation results using run-length encoding on the pixel values.  That is, instead of submitting an exhaustive list of indices for your segmentation, you will submit pairs of values that contain a start position and a run length. E.g. '0 3' implies starting at pixel 0 and running a total of 3 pixels (0,1,2).\n",
    "\n",
    "The competition format requires a space delimited list of pairs. For example, '0 3 10 5' implies pixels 0,1,2, and 10,11,12,13,14 are to be included in the mask. The metric checks that the pairs are sorted, positive, and the decoded pixel values are not duplicated. The pixels are numbered from top to bottom, then left to right: 0 is pixel (0,0), 1 is pixel (1,0), and 2 is pixel (2,0) etc., see the sample image below.\n",
    "\n",
    "<img src=\"files/encoding.png\">\n",
    "\n",
    "For example:\n",
    "\n",
    "The sample image has 10 rows and 8 columns and the pixels are numbered from 0 to 79 based on the sequence from top to bottom and then left to right. The shaded area is the mask and the encoding of the mask starts from the 18th to the following three pixels (18 3), then from the 25th to the next five pixels (25 5), and etc. Finally the line of the mask encoding of “glom 0” is:\n",
    "\n",
    "0, 18 3 25 5 33 6 41 7 50 6\n",
    "\n",
    "There should be 20 csv files submitted (for 11 fresh frozen and 9 FFPE PAS kidney images). Each file should have the same file name with the image file but ends with “.csv”. For example, if the image file is hackathon_sample.tiff, the result csv file should be hackathon_sample.csv. Each csv file should contain a header and have the following format. Each line is a glomerulus and the line starts with the unique id (starts from 0) of the glomeruli."
   ]
  },
  {
   "cell_type": "code",
   "execution_count": 6,
   "metadata": {
    "pycharm": {
     "name": "#%%\n"
    }
   },
   "outputs": [
    {
     "data": {
      "text/plain": [
       "array([[0., 0., 0., ..., 0., 0., 0.],\n",
       "       [0., 0., 0., ..., 0., 0., 0.],\n",
       "       [0., 0., 0., ..., 0., 0., 0.],\n",
       "       ...,\n",
       "       [0., 0., 0., ..., 0., 0., 0.],\n",
       "       [0., 0., 0., ..., 0., 0., 0.],\n",
       "       [0., 0., 0., ..., 0., 0., 0.]])"
      ]
     },
     "execution_count": 6,
     "metadata": {},
     "output_type": "execute_result"
    }
   ],
   "source": [
    "mask_1"
   ]
  },
  {
   "cell_type": "code",
   "execution_count": 7,
   "metadata": {
    "pycharm": {
     "name": "#%%\n"
    }
   },
   "outputs": [
    {
     "data": {
      "text/plain": [
       "range(0, 96)"
      ]
     },
     "execution_count": 7,
     "metadata": {},
     "output_type": "execute_result"
    }
   ],
   "source": [
    "range(len(polys))"
   ]
  },
  {
   "cell_type": "markdown",
   "metadata": {},
   "source": [
    "## method 1"
   ]
  },
  {
   "cell_type": "code",
   "execution_count": 8,
   "metadata": {
    "pycharm": {
     "name": "#%%\n"
    }
   },
   "outputs": [],
   "source": [
    "def rle_encoding(x):\n",
    "    '''\n",
    "    x: numpy array of shape (height, width), non 0 - mask, 0 - background\n",
    "    Returns run length as list\n",
    "    '''\n",
    "    run_lengths = []\n",
    "    for i in range(len(polys)):\n",
    "        run_lengths.append([])\n",
    "    current = 0\n",
    "    count = 0\n",
    "    start = 0\n",
    "    flat = x.T.flatten()\n",
    "    for i in range(len(flat)):\n",
    "        dot = flat[i]\n",
    "        if dot == 0:\n",
    "            if current == 0:\n",
    "                continue\n",
    "            else:\n",
    "                run_lengths[current-1].extend([start, count])\n",
    "                current = 0\n",
    "                count = 0\n",
    "                start = 0\n",
    "        else:\n",
    "            if dot == current:\n",
    "                count += 1\n",
    "            elif count != 0:\n",
    "                run_lengths[current-1].extend([start, count])\n",
    "                current = 0\n",
    "                count = 0\n",
    "                start = 0\n",
    "            else:\n",
    "                start = i\n",
    "                current = dot\n",
    "                count += 1\n",
    "    return run_lengths"
   ]
  },
  {
   "cell_type": "code",
   "execution_count": 9,
   "metadata": {
    "pycharm": {
     "name": "#%%\n"
    }
   },
   "outputs": [],
   "source": [
    "encoding = rle_encoding(mask_1.astype('uint8'))"
   ]
  },
  {
   "cell_type": "markdown",
   "metadata": {},
   "source": [
    "## method 2"
   ]
  },
  {
   "cell_type": "code",
   "execution_count": 10,
   "metadata": {
    "pycharm": {
     "name": "#%%\n"
    }
   },
   "outputs": [],
   "source": [
    "def rle_encoding_2(x):\n",
    "    '''\n",
    "    x: numpy array of shape (height, width), non 0 - mask, 0 - background\n",
    "    Returns run length as list\n",
    "    '''\n",
    "    run_lengths = []\n",
    "    for i in range(len(polys)):\n",
    "        run_lengths.append([])\n",
    "        dots = np.where(x.T.flatten()==i+1)[0] # .T sets Fortran order down-then-right\n",
    "        prev = -2\n",
    "        for b in dots:\n",
    "            if (b>prev+1): run_lengths[-1].extend((b, 0))\n",
    "            run_lengths[-1][-1] += 1\n",
    "            prev = b\n",
    "    return run_lengths"
   ]
  },
  {
   "cell_type": "code",
   "execution_count": 11,
   "metadata": {
    "pycharm": {
     "name": "#%%\n"
    }
   },
   "outputs": [],
   "source": [
    "encoding_2 = rle_encoding_2(mask_1.astype('uint8'))"
   ]
  },
  {
   "cell_type": "code",
   "execution_count": 12,
   "metadata": {
    "pycharm": {
     "name": "#%%\n"
    }
   },
   "outputs": [
    {
     "data": {
      "text/plain": [
       "[46056163,\n",
       " 12,\n",
       " 46074627,\n",
       " 38,\n",
       " 46093091,\n",
       " 63,\n",
       " 46111555,\n",
       " 89,\n",
       " 46130029,\n",
       " 105,\n",
       " 46148512,\n",
       " 111,\n",
       " 46166995,\n",
       " 118,\n",
       " 46185478,\n",
       " 124,\n",
       " 46203961,\n",
       " 131,\n",
       " 46222445,\n",
       " 136]"
      ]
     },
     "execution_count": 12,
     "metadata": {},
     "output_type": "execute_result"
    }
   ],
   "source": [
    "# preview the first 10 pairs\n",
    "encoding[0][:20]"
   ]
  },
  {
   "cell_type": "code",
   "execution_count": 13,
   "metadata": {
    "pycharm": {
     "name": "#%%\n"
    }
   },
   "outputs": [
    {
     "data": {
      "text/plain": [
       "[46056163,\n",
       " 12,\n",
       " 46074627,\n",
       " 38,\n",
       " 46093091,\n",
       " 63,\n",
       " 46111555,\n",
       " 89,\n",
       " 46130029,\n",
       " 105,\n",
       " 46148512,\n",
       " 111,\n",
       " 46166995,\n",
       " 118,\n",
       " 46185478,\n",
       " 124,\n",
       " 46203961,\n",
       " 131,\n",
       " 46222445,\n",
       " 136]"
      ]
     },
     "execution_count": 13,
     "metadata": {},
     "output_type": "execute_result"
    }
   ],
   "source": [
    "# preview the first 10 pairs\n",
    "encoding_2[0][:20]"
   ]
  },
  {
   "cell_type": "markdown",
   "metadata": {},
   "source": [
    "# Validation of the encoding\n",
    "\n",
    "## restore the image from the encoding"
   ]
  },
  {
   "cell_type": "code",
   "execution_count": 14,
   "metadata": {
    "pycharm": {
     "name": "#%%\n"
    }
   },
   "outputs": [
    {
     "data": {
      "text/plain": [
       "<matplotlib.image.AxesImage at 0x1c4ab29bd30>"
      ]
     },
     "execution_count": 14,
     "metadata": {},
     "output_type": "execute_result"
    },
    {
     "data": {
      "image/png": "[encoded data removed]",
      "text/plain": [
       "<Figure size 432x288 with 1 Axes>"
      ]
     },
     "metadata": {
      "needs_background": "light"
     },
     "output_type": "display_data"
    }
   ],
   "source": [
    "# validation\n",
    "\n",
    "generated_1d_mask = np.zeros((shape[1]*shape[0]))\n",
    "\n",
    "for i in range(len(encoding_2)):\n",
    "    for j in range(len(encoding_2[i]) // 2):\n",
    "            generated_1d_mask[encoding[i][j * 2]:encoding[i][j * 2]+encoding[i][j * 2+1]] = i\n",
    "        \n",
    "generated_mask = generated_1d_mask.reshape((shape[1], shape[0])).T\n",
    "plt.imshow(generated_mask)"
   ]
  },
  {
   "cell_type": "markdown",
   "metadata": {},
   "source": [
    "# Save the encoding to csv file"
   ]
  },
  {
   "cell_type": "code",
   "execution_count": 15,
   "metadata": {
    "pycharm": {
     "name": "#%%\n"
    }
   },
   "outputs": [],
   "source": [
    "file = open('test.csv', 'w', newline ='') \n",
    "  \n",
    "with file: \n",
    "    # identifying header   \n",
    "    header = ['glom', 'pixels'] \n",
    "    writer = csv.DictWriter(file, fieldnames = header) \n",
    "      \n",
    "    # writing data row-wise into the csv file \n",
    "    writer.writeheader()\n",
    "    for i in range(len(encoding)):\n",
    "        writer.writerow({'glom' : i,  \n",
    "                         'pixels': ' '.join([str(item) for item in encoding[i]]), \n",
    "                        }) "
   ]
  },
  {
   "cell_type": "code",
   "execution_count": 16,
   "metadata": {
    "pycharm": {
     "name": "#%%\n"
    }
   },
   "outputs": [
    {
     "name": "stdout",
     "output_type": "stream",
     "text": [
      "glom,pixels\r\n",
      "0,46056163 12 46074627 38 46093091 63 46111555 89 46130029 105 46148512 111 46166995 118 46185478 124 46203961 131 46222445 136 46240928 143 46259411 150 46277894 156 46296377 163 46314860 167 46333343 169 46351826 172 46370309 174 46388792 176 46407276 177 46425759 179 46444242 182 464\n"
     ]
    }
   ],
   "source": [
    "with open('test.csv', newline='') as testfile:\n",
    "    content = testfile.read()\n",
    "    print(content[:300])"
   ]
  },
  {
   "cell_type": "code",
   "execution_count": null,
   "metadata": {
    "pycharm": {
     "name": "#%%\n"
    }
   },
   "outputs": [],
   "source": []
  }
 ],
 "metadata": {
  "kernelspec": {
   "display_name": "Python 3",
   "language": "python",
   "name": "python3"
  },
  "language_info": {
   "codemirror_mode": {
    "name": "ipython",
    "version": 3
   },
   "file_extension": ".py",
   "mimetype": "text/x-python",
   "name": "python",
   "nbconvert_exporter": "python",
   "pygments_lexer": "ipython3",
   "version": "3.7.3"
  }
 },
 "nbformat": 4,
 "nbformat_minor": 1
}
