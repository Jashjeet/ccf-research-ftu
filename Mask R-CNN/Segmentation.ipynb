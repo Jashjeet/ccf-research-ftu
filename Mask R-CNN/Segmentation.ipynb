{
 "cells": [
  {
   "cell_type": "code",
   "execution_count": 8,
   "metadata": {},
   "outputs": [],
   "source": [
    "import json\n",
    "import cv2\n",
    "import numpy as np\n",
    "from matplotlib import pyplot as plt"
   ]
  },
  {
   "cell_type": "code",
   "execution_count": 9,
   "metadata": {},
   "outputs": [],
   "source": [
    "import os\n",
    "import sys\n",
    "import random\n",
    "import math\n",
    "import re\n",
    "import time\n",
    "import numpy as np\n",
    "import cv2\n",
    "import matplotlib\n",
    "import matplotlib.pyplot as plt\n",
    "import json\n",
    "from skimage.io import imread, imshow, imread_collection, concatenate_images\n",
    "from skimage.transform import resize\n",
    "from tqdm import tqdm\n",
    "\n",
    "\n",
    "# Root directory of the project\n",
    "ROOT_DIR = os.path.abspath(\"../\")"
   ]
  },
  {
   "cell_type": "code",
   "execution_count": 10,
   "metadata": {},
   "outputs": [],
   "source": [
    "from PIL import Image\n",
    "Image.MAX_IMAGE_PIXELS = 1000000000\n",
    "Image.warnings.simplefilter('error', Image.DecompressionBombWarning)"
   ]
  },
  {
   "cell_type": "code",
   "execution_count": 27,
   "metadata": {},
   "outputs": [],
   "source": [
    "# Set some parameters\n",
    "IMG_WIDTH = 800\n",
    "IMG_HEIGHT = 600\n",
    "IMG_CHANNELS = 3"
   ]
  },
  {
   "cell_type": "code",
   "execution_count": 12,
   "metadata": {},
   "outputs": [],
   "source": [
    "# PATH='C:/Users/jashj/Desktop/images/29 Friday'"
   ]
  },
  {
   "cell_type": "code",
   "execution_count": 16,
   "metadata": {},
   "outputs": [],
   "source": [
    "# # Get and resize test images\n",
    "\n",
    "# # img = original_image.copy()\n",
    "img = imread(\"C:/Users/jashj/Desktop/RA/Human Annotation Analysis using QuPath/VAN0008j.jpg\")"
   ]
  },
  {
   "cell_type": "markdown",
   "metadata": {},
   "source": [
    "## Tiling after resizing"
   ]
  },
  {
   "cell_type": "code",
   "execution_count": 18,
   "metadata": {},
   "outputs": [],
   "source": [
    "resize_height=img.shape[0]//IMG_HEIGHT + 1\n",
    "#     resize_height\n",
    "\n",
    "resize_width=img.shape[1]//IMG_WIDTH + 1\n",
    "#     resize_width\n",
    "\n",
    "X_test = np.zeros((resize_height*resize_width, IMG_HEIGHT, IMG_WIDTH,3))\n",
    "\n",
    "im = resize(img, (resize_height*IMG_HEIGHT, resize_width*IMG_WIDTH,3),  preserve_range=True)\n",
    "\n",
    "i=0\n",
    "o=97\n",
    "for r in range(0,im.shape[0],IMG_HEIGHT):\n",
    "    for c in range(0,im.shape[1],IMG_WIDTH):\n",
    "#         cv2.imwrite(f\"C:/Users/jashj/Desktop/images/29 Friday/img_{r}_{c}.jpg\",im[r:r+IMG_WIDTH, c:c+IMG_HEIGHT,::-1])\n",
    "#         a=r*resize_height+c\n",
    "        cv2.imwrite(f\"C:/Users/jashj/Desktop/RA/Human Annotation Analysis using QuPath/Segments/{i}.jpg\",im[r:r+IMG_HEIGHT, c:c+IMG_WIDTH,::-1])    \n",
    "        X_test[n] = im[r:r+IMG_HEIGHT, c:c+IMG_WIDTH,:]\n",
    "        i+=1\n",
    "            \n",
    "        "
   ]
  },
  {
   "cell_type": "markdown",
   "metadata": {},
   "source": [
    "## Tiling without resizing on original image"
   ]
  },
  {
   "cell_type": "code",
   "execution_count": 28,
   "metadata": {},
   "outputs": [],
   "source": [
    "# resize_height=img.shape[0]//IMG_HEIGHT + 1\n",
    "# #     resize_height\n",
    "\n",
    "# resize_width=img.shape[1]//IMG_WIDTH + 1\n",
    "# #     resize_width\n",
    "\n",
    "# X_test = np.zeros((resize_height*resize_width, img.shape[0], img.shape[1],3))\n",
    "\n",
    "# im = resize(img, (resize_height*IMG_HEIGHT, resize_width*IMG_WIDTH,3),  preserve_range=True)\n",
    "\n",
    "im=img.copy()\n",
    "X_test=[]\n",
    "i=0\n",
    "# o=97\n",
    "for r in range(0,im.shape[0],IMG_HEIGHT):\n",
    "    for c in range(0,im.shape[1],IMG_WIDTH):\n",
    "#         cv2.imwrite(f\"C:/Users/jashj/Desktop/images/29 Friday/img_{r}_{c}.jpg\",im[r:r+IMG_WIDTH, c:c+IMG_HEIGHT,::-1])\n",
    "#         a=r*resize_height+c\n",
    "        cv2.imwrite(f\"C:/Users/jashj/Desktop/RA/Human Annotation Analysis using QuPath/Segments/{i}.jpg\",im[r:r+IMG_HEIGHT, c:c+IMG_WIDTH,::-1])    \n",
    "        X_test.append(im[r:r+IMG_HEIGHT, c:c+IMG_WIDTH,:])\n",
    "        i+=1\n",
    "            \n",
    "        "
   ]
  },
  {
   "cell_type": "code",
   "execution_count": 24,
   "metadata": {},
   "outputs": [
    {
     "data": {
      "text/plain": [
       "13390"
      ]
     },
     "execution_count": 24,
     "metadata": {},
     "output_type": "execute_result"
    }
   ],
   "source": [
    "im.shape[0]"
   ]
  },
  {
   "cell_type": "code",
   "execution_count": 23,
   "metadata": {},
   "outputs": [
    {
     "data": {
      "text/plain": [
       "2400"
      ]
     },
     "execution_count": 23,
     "metadata": {},
     "output_type": "execute_result"
    }
   ],
   "source": [
    "IMG_WIDTH"
   ]
  },
  {
   "cell_type": "code",
   "execution_count": null,
   "metadata": {},
   "outputs": [],
   "source": []
  }
 ],
 "metadata": {
  "kernelspec": {
   "display_name": "Python 3",
   "language": "python",
   "name": "python3"
  },
  "language_info": {
   "codemirror_mode": {
    "name": "ipython",
    "version": 3
   },
   "file_extension": ".py",
   "mimetype": "text/x-python",
   "name": "python",
   "nbconvert_exporter": "python",
   "pygments_lexer": "ipython3",
   "version": "3.7.6"
  }
 },
 "nbformat": 4,
 "nbformat_minor": 2
}
