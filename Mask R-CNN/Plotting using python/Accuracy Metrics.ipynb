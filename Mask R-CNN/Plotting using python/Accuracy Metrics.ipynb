{
 "cells": [
  {
   "cell_type": "code",
   "execution_count": 1,
   "metadata": {},
   "outputs": [],
   "source": [
    "import json\n",
    "import numpy as np\n",
    "import cv2\n",
    "import pandas as pd"
   ]
  },
  {
   "cell_type": "code",
   "execution_count": 2,
   "metadata": {},
   "outputs": [],
   "source": [
    "# Opening JSON file \n",
    "json_Jash = open('VAN0008Jash.json') \n",
    "json_Leah = open('VAN0008Leah.json') \n"
   ]
  },
  {
   "cell_type": "code",
   "execution_count": 3,
   "metadata": {},
   "outputs": [],
   "source": [
    "# returns JSON object as  \n",
    "# a dictionary \n",
    "data_Jash = json.load(json_Jash) \n",
    "data_Leah = json.load(json_Leah) "
   ]
  },
  {
   "cell_type": "code",
   "execution_count": 4,
   "metadata": {},
   "outputs": [],
   "source": [
    "list_of_coordinates_Jash=[]\n",
    "list_of_coordinates_Leah=[]"
   ]
  },
  {
   "cell_type": "code",
   "execution_count": 5,
   "metadata": {},
   "outputs": [],
   "source": [
    "for i in data_Jash:\n",
    "#     print(i['geometry']['coordinates'])\n",
    "    list_of_coordinates_Jash.extend(i['geometry']['coordinates'])\n",
    "    \n",
    "    \n",
    "for i in data_Leah:\n",
    "#     print(i['geometry']['coordinates'])\n",
    "    list_of_coordinates_Leah.extend(i['geometry']['coordinates'])"
   ]
  },
  {
   "cell_type": "code",
   "execution_count": 6,
   "metadata": {},
   "outputs": [],
   "source": [
    "my_img = cv2.imread('VAN0008j.jpg')"
   ]
  },
  {
   "cell_type": "code",
   "execution_count": 7,
   "metadata": {},
   "outputs": [
    {
     "data": {
      "text/plain": [
       "(13390, 16110, 3)"
      ]
     },
     "execution_count": 7,
     "metadata": {},
     "output_type": "execute_result"
    }
   ],
   "source": [
    "my_img.shape"
   ]
  },
  {
   "cell_type": "code",
   "execution_count": 8,
   "metadata": {},
   "outputs": [],
   "source": [
    "S_img=np.zeros(my_img.shape[:2])\n",
    "Y_img=np.zeros(my_img.shape[:2])\n",
    "J_img=np.zeros(my_img.shape[:2])\n",
    "L_img=np.zeros(my_img.shape[:2])"
   ]
  },
  {
   "cell_type": "code",
   "execution_count": 9,
   "metadata": {},
   "outputs": [],
   "source": [
    "from matplotlib import pyplot as plt"
   ]
  },
  {
   "cell_type": "code",
   "execution_count": 10,
   "metadata": {},
   "outputs": [],
   "source": [
    "# plt.imshow(my_img)"
   ]
  },
  {
   "cell_type": "code",
   "execution_count": null,
   "metadata": {},
   "outputs": [],
   "source": []
  },
  {
   "cell_type": "code",
   "execution_count": 11,
   "metadata": {},
   "outputs": [],
   "source": [
    "for i in list_of_coordinates_Jash:\n",
    "    pts_Jash = np.array(i, np.int32)\n",
    "    pts_Jash = pts_Jash.reshape((-1,1,2))\n",
    "#     cv2.polylines(my_img,[pts_Jash],True,(255,0,0),5)\n",
    "    cv2.fillPoly(J_img,[pts_Jash],1)"
   ]
  },
  {
   "cell_type": "code",
   "execution_count": 12,
   "metadata": {},
   "outputs": [],
   "source": [
    "# plt.imshow(J_img)"
   ]
  },
  {
   "cell_type": "code",
   "execution_count": 13,
   "metadata": {},
   "outputs": [],
   "source": [
    "# cv2.imwrite('Jashjeet.jpg',my_img)"
   ]
  },
  {
   "cell_type": "code",
   "execution_count": 14,
   "metadata": {},
   "outputs": [],
   "source": [
    "# my_img_Leah = cv2.imread('VAN0008j.jpg')"
   ]
  },
  {
   "cell_type": "code",
   "execution_count": 15,
   "metadata": {},
   "outputs": [],
   "source": [
    "for i in list_of_coordinates_Leah:\n",
    "    pts_Leah = np.array(i, np.int32)\n",
    "    pts_Leah = pts_Leah.reshape((-1,1,2))\n",
    "#     cv2.polylines(my_img,[pts_Leah],True,(0,43,255),5)\n",
    "#     cv2.polylines(my_img_Leah,[pts_Leah],True,(0,43,255),5)\n",
    "    cv2.fillPoly(L_img,[pts_Leah],1)"
   ]
  },
  {
   "cell_type": "code",
   "execution_count": 16,
   "metadata": {
    "scrolled": true
   },
   "outputs": [],
   "source": [
    "# plt.imshow(L_img)"
   ]
  },
  {
   "cell_type": "code",
   "execution_count": 17,
   "metadata": {},
   "outputs": [],
   "source": [
    "# cv2.imwrite('Leah.jpg',my_img_Leah)"
   ]
  },
  {
   "cell_type": "code",
   "execution_count": 18,
   "metadata": {
    "scrolled": true
   },
   "outputs": [],
   "source": [
    "# cv2.imwrite('ff.jpg',my_img)"
   ]
  },
  {
   "cell_type": "code",
   "execution_count": 19,
   "metadata": {},
   "outputs": [],
   "source": [
    "from read_roi import read_roi_file\n",
    "from read_roi import read_roi_zip\n",
    "import matplotlib.pyplot as plt\n",
    "import cv2\n",
    "import numpy as np\n",
    "from PIL import Image, ImageDraw"
   ]
  },
  {
   "cell_type": "code",
   "execution_count": 20,
   "metadata": {},
   "outputs": [],
   "source": [
    "# to handle decompression bomb\n",
    "Image.MAX_IMAGE_PIXELS = None"
   ]
  },
  {
   "cell_type": "code",
   "execution_count": 21,
   "metadata": {},
   "outputs": [],
   "source": [
    "#reading roi files\n",
    "\n",
    "rois_Sumeet = read_roi_zip(\"VAN0008Sumeet.zip\")\n",
    "\n",
    "rois_Yash = read_roi_zip(\"VAN0008Yash.zip\")"
   ]
  },
  {
   "cell_type": "code",
   "execution_count": 22,
   "metadata": {},
   "outputs": [],
   "source": [
    "S_pil = Image.fromarray(S_img)\n",
    "Y_pil = Image.fromarray(Y_img)\n",
    "\n",
    "\n",
    "im_pil = Image.fromarray(my_img)\n",
    "draw = ImageDraw.Draw(im_pil)\n",
    "draw = ImageDraw.Draw(im_pil)"
   ]
  },
  {
   "cell_type": "code",
   "execution_count": 23,
   "metadata": {},
   "outputs": [],
   "source": [
    "# im_Sumeet = Image.open(\"VAN0008j.jpg\")\n",
    "draw_Sumeet=ImageDraw.Draw(S_pil)\n",
    "\n",
    "# im_Yash = Image.open(\"VAN0008j.jpg\")\n",
    "draw_Yash=ImageDraw.Draw(Y_pil)"
   ]
  },
  {
   "cell_type": "code",
   "execution_count": 24,
   "metadata": {},
   "outputs": [],
   "source": [
    "for key in rois_Sumeet.keys():\n",
    "    left = rois_Sumeet[key]['left']\n",
    "    top = rois_Sumeet[key]['top']\n",
    "    width = rois_Sumeet[key]['width']\n",
    "    height = rois_Sumeet[key]['height']\n",
    "    \n",
    "    centreX = int(left + (width/2))\n",
    "    centreY = int(top + (height/2))\n",
    "    widthX = int(width/2)\n",
    "    heightY = int(height/2) \n",
    "    \n",
    "    bbox = (centreX-widthX,centreY-heightY,centreX+widthX,centreY+heightY)\n",
    "#     draw.ellipse(bbox, outline = \"pink\", width = 20)\n",
    "    draw_Sumeet.ellipse(bbox, fill='white')    "
   ]
  },
  {
   "cell_type": "code",
   "execution_count": 25,
   "metadata": {
    "scrolled": true
   },
   "outputs": [],
   "source": [
    "# plt.imshow(im_pil)\n",
    "# plt.imshow(S_pil)"
   ]
  },
  {
   "cell_type": "code",
   "execution_count": 26,
   "metadata": {},
   "outputs": [
    {
     "data": {
      "text/plain": [
       "array([  0., 255.], dtype=float32)"
      ]
     },
     "execution_count": 26,
     "metadata": {},
     "output_type": "execute_result"
    }
   ],
   "source": [
    "np.unique(S_pil)"
   ]
  },
  {
   "cell_type": "code",
   "execution_count": 27,
   "metadata": {},
   "outputs": [],
   "source": [
    "S_img=np.array(S_pil)"
   ]
  },
  {
   "cell_type": "code",
   "execution_count": 28,
   "metadata": {},
   "outputs": [],
   "source": [
    "S_img[S_img==255]=1"
   ]
  },
  {
   "cell_type": "code",
   "execution_count": 29,
   "metadata": {},
   "outputs": [
    {
     "data": {
      "text/plain": [
       "array([0., 1.], dtype=float32)"
      ]
     },
     "execution_count": 29,
     "metadata": {},
     "output_type": "execute_result"
    }
   ],
   "source": [
    "np.unique(S_img)"
   ]
  },
  {
   "cell_type": "code",
   "execution_count": 30,
   "metadata": {},
   "outputs": [],
   "source": [
    "# draw = ImageDraw.Draw(im_pil)"
   ]
  },
  {
   "cell_type": "code",
   "execution_count": 31,
   "metadata": {},
   "outputs": [],
   "source": [
    "for key in rois_Yash.keys():\n",
    "    left = rois_Yash[key]['left']\n",
    "    top = rois_Yash[key]['top']\n",
    "    width = rois_Yash[key]['width']\n",
    "    height = rois_Yash[key]['height']\n",
    "    \n",
    "    centreX = int(left + (width/2))\n",
    "    centreY = int(top + (height/2))\n",
    "    widthX = int(width/2)\n",
    "    heightY = int(height/2) \n",
    "    \n",
    "    bbox = (centreX-widthX,centreY-heightY,centreX+widthX,centreY+heightY)\n",
    "#     draw.ellipse(bbox, outline = \"green\", width = 5)\n",
    "    draw_Yash.ellipse(bbox, fill='white')"
   ]
  },
  {
   "cell_type": "code",
   "execution_count": 32,
   "metadata": {},
   "outputs": [],
   "source": [
    "# plt.imshow(im_Yash)\n",
    "# plt.imshow(Y_pil)"
   ]
  },
  {
   "cell_type": "code",
   "execution_count": 33,
   "metadata": {},
   "outputs": [],
   "source": [
    "# im_Yash.save(\"Yash.jpg\")"
   ]
  },
  {
   "cell_type": "code",
   "execution_count": 34,
   "metadata": {},
   "outputs": [],
   "source": [
    "# im_pil.save(\"VAN0008_output.jpg\")"
   ]
  },
  {
   "cell_type": "code",
   "execution_count": 35,
   "metadata": {},
   "outputs": [],
   "source": [
    "Y_img=np.array(Y_pil)"
   ]
  },
  {
   "cell_type": "code",
   "execution_count": 36,
   "metadata": {},
   "outputs": [
    {
     "data": {
      "text/plain": [
       "array([  0., 255.], dtype=float32)"
      ]
     },
     "execution_count": 36,
     "metadata": {},
     "output_type": "execute_result"
    }
   ],
   "source": [
    "np.unique(Y_pil)"
   ]
  },
  {
   "cell_type": "code",
   "execution_count": 37,
   "metadata": {},
   "outputs": [],
   "source": [
    "Y_img=np.array(Y_pil)"
   ]
  },
  {
   "cell_type": "code",
   "execution_count": 38,
   "metadata": {},
   "outputs": [],
   "source": [
    "Y_img[Y_img==255]=1"
   ]
  },
  {
   "cell_type": "code",
   "execution_count": 39,
   "metadata": {},
   "outputs": [
    {
     "data": {
      "text/plain": [
       "array([0., 1.], dtype=float32)"
      ]
     },
     "execution_count": 39,
     "metadata": {},
     "output_type": "execute_result"
    }
   ],
   "source": [
    "np.unique(Y_img)"
   ]
  },
  {
   "cell_type": "code",
   "execution_count": 40,
   "metadata": {},
   "outputs": [],
   "source": [
    "# plt.imshow(Y_img)"
   ]
  },
  {
   "cell_type": "code",
   "execution_count": 41,
   "metadata": {},
   "outputs": [],
   "source": [
    "combined=L_img+J_img+Y_img+S_img"
   ]
  },
  {
   "cell_type": "code",
   "execution_count": 42,
   "metadata": {},
   "outputs": [
    {
     "data": {
      "text/plain": [
       "array([0., 1., 2., 3., 4.])"
      ]
     },
     "execution_count": 42,
     "metadata": {},
     "output_type": "execute_result"
    }
   ],
   "source": [
    "np.unique(combined)"
   ]
  },
  {
   "cell_type": "code",
   "execution_count": 52,
   "metadata": {},
   "outputs": [],
   "source": [
    "one=(combined>=1)*255\n",
    "two=(combined>=2)*255\n",
    "three=(combined>=3)*255\n",
    "four=(combined>=4)*255"
   ]
  },
  {
   "cell_type": "code",
   "execution_count": 53,
   "metadata": {
    "scrolled": true
   },
   "outputs": [
    {
     "data": {
      "text/plain": [
       "array([0., 1., 2., 3., 4.])"
      ]
     },
     "execution_count": 53,
     "metadata": {},
     "output_type": "execute_result"
    }
   ],
   "source": [
    "np.unique(combined)"
   ]
  },
  {
   "cell_type": "code",
   "execution_count": 56,
   "metadata": {},
   "outputs": [],
   "source": [
    "im=one.copy()"
   ]
  },
  {
   "cell_type": "code",
   "execution_count": 57,
   "metadata": {},
   "outputs": [
    {
     "data": {
      "text/plain": [
       "dtype('int32')"
      ]
     },
     "execution_count": 57,
     "metadata": {},
     "output_type": "execute_result"
    }
   ],
   "source": [
    "im.dtype"
   ]
  },
  {
   "cell_type": "code",
   "execution_count": 58,
   "metadata": {},
   "outputs": [],
   "source": [
    "from scipy.ndimage.measurements import label"
   ]
  },
  {
   "cell_type": "code",
   "execution_count": 59,
   "metadata": {},
   "outputs": [],
   "source": [
    "structure = np.ones((3, 3), dtype=np.int)"
   ]
  },
  {
   "cell_type": "code",
   "execution_count": null,
   "metadata": {},
   "outputs": [],
   "source": []
  },
  {
   "cell_type": "code",
   "execution_count": 60,
   "metadata": {},
   "outputs": [
    {
     "data": {
      "text/plain": [
       "179"
      ]
     },
     "execution_count": 60,
     "metadata": {},
     "output_type": "execute_result"
    }
   ],
   "source": [
    "labeled_one, ncomponents_one = label(one, structure)\n",
    "labeled_one\n",
    "ncomponents_one"
   ]
  },
  {
   "cell_type": "code",
   "execution_count": 61,
   "metadata": {},
   "outputs": [
    {
     "name": "stdout",
     "output_type": "stream",
     "text": [
      "[[0 0 0 ... 0 0 0]\n",
      " [0 0 0 ... 0 0 0]\n",
      " [0 0 0 ... 0 0 0]\n",
      " ...\n",
      " [0 0 0 ... 0 0 0]\n",
      " [0 0 0 ... 0 0 0]\n",
      " [0 0 0 ... 0 0 0]]\n",
      "165\n"
     ]
    }
   ],
   "source": [
    "labeled_two, ncomponents_two = label(two, structure)\n",
    "print(labeled_two)\n",
    "print(ncomponents_two)"
   ]
  },
  {
   "cell_type": "code",
   "execution_count": 62,
   "metadata": {},
   "outputs": [
    {
     "name": "stdout",
     "output_type": "stream",
     "text": [
      "[[0 0 0 ... 0 0 0]\n",
      " [0 0 0 ... 0 0 0]\n",
      " [0 0 0 ... 0 0 0]\n",
      " ...\n",
      " [0 0 0 ... 0 0 0]\n",
      " [0 0 0 ... 0 0 0]\n",
      " [0 0 0 ... 0 0 0]]\n",
      "131\n"
     ]
    }
   ],
   "source": [
    "labeled_three, ncomponents_three = label(three, structure)\n",
    "print(labeled_three)\n",
    "print(ncomponents_three)"
   ]
  },
  {
   "cell_type": "code",
   "execution_count": 63,
   "metadata": {},
   "outputs": [
    {
     "name": "stdout",
     "output_type": "stream",
     "text": [
      "[[0 0 0 ... 0 0 0]\n",
      " [0 0 0 ... 0 0 0]\n",
      " [0 0 0 ... 0 0 0]\n",
      " ...\n",
      " [0 0 0 ... 0 0 0]\n",
      " [0 0 0 ... 0 0 0]\n",
      " [0 0 0 ... 0 0 0]]\n",
      "126\n"
     ]
    }
   ],
   "source": [
    "labeled_four, ncomponents_four = label(four, structure)\n",
    "print(labeled_four)\n",
    "print(ncomponents_four)"
   ]
  },
  {
   "cell_type": "markdown",
   "metadata": {},
   "source": [
    "## Comparison with ground truth of 4"
   ]
  },
  {
   "cell_type": "code",
   "execution_count": 64,
   "metadata": {},
   "outputs": [
    {
     "data": {
      "text/plain": [
       "array([[0, 0, 0, ..., 0, 0, 0],\n",
       "       [0, 0, 0, ..., 0, 0, 0],\n",
       "       [0, 0, 0, ..., 0, 0, 0],\n",
       "       ...,\n",
       "       [0, 0, 0, ..., 0, 0, 0],\n",
       "       [0, 0, 0, ..., 0, 0, 0],\n",
       "       [0, 0, 0, ..., 0, 0, 0]], dtype=int32)"
      ]
     },
     "execution_count": 64,
     "metadata": {},
     "output_type": "execute_result"
    }
   ],
   "source": [
    "ground_truth=four//255\n",
    "ground_truth"
   ]
  },
  {
   "cell_type": "code",
   "execution_count": 74,
   "metadata": {},
   "outputs": [],
   "source": [
    "closing=cv2.imread('closing_0.98.jpg',0)\n",
    "best=cv2.imread('two_resize_995.jpg',0)"
   ]
  },
  {
   "cell_type": "code",
   "execution_count": 75,
   "metadata": {},
   "outputs": [
    {
     "data": {
      "text/plain": [
       "array([  0,   1,   2,   3,   4,   5,   6,   7,   8, 247, 248, 249, 250,\n",
       "       251, 252, 253, 254, 255], dtype=uint8)"
      ]
     },
     "execution_count": 75,
     "metadata": {},
     "output_type": "execute_result"
    }
   ],
   "source": [
    "np.unique(closing)"
   ]
  },
  {
   "cell_type": "code",
   "execution_count": 76,
   "metadata": {},
   "outputs": [],
   "source": [
    "closing=(closing>246)*1"
   ]
  },
  {
   "cell_type": "code",
   "execution_count": 77,
   "metadata": {
    "scrolled": true
   },
   "outputs": [
    {
     "data": {
      "text/plain": [
       "array([0, 1])"
      ]
     },
     "execution_count": 77,
     "metadata": {},
     "output_type": "execute_result"
    }
   ],
   "source": [
    "np.unique(closing)"
   ]
  },
  {
   "cell_type": "code",
   "execution_count": 78,
   "metadata": {},
   "outputs": [
    {
     "name": "stdout",
     "output_type": "stream",
     "text": [
      "[[0 0 0 ... 0 0 0]\n",
      " [0 0 0 ... 0 0 0]\n",
      " [0 0 0 ... 0 0 0]\n",
      " ...\n",
      " [0 0 0 ... 0 0 0]\n",
      " [0 0 0 ... 0 0 0]\n",
      " [0 0 0 ... 0 0 0]]\n",
      "164\n"
     ]
    }
   ],
   "source": [
    "labeled_closing, ncomponents_closing = label(closing, structure)\n",
    "print(labeled_closing)\n",
    "print(ncomponents_closing)"
   ]
  },
  {
   "cell_type": "code",
   "execution_count": 79,
   "metadata": {
    "scrolled": true
   },
   "outputs": [
    {
     "data": {
      "text/plain": [
       "(array([  0,   1,   2,   3,   4,   5,   6,   7,   8, 247, 248, 249, 250,\n",
       "        251, 252, 253, 254, 255], dtype=uint8),\n",
       " array([210565702,     73702,     40834,     17561,      7472,      2774,\n",
       "              425,       425,         2,         1,       394,       411,\n",
       "             2841,      7325,     17355,     39456,     71756,   4864464],\n",
       "       dtype=int64))"
      ]
     },
     "execution_count": 79,
     "metadata": {},
     "output_type": "execute_result"
    }
   ],
   "source": [
    "np.unique(best,return_counts=True)"
   ]
  },
  {
   "cell_type": "code",
   "execution_count": 80,
   "metadata": {},
   "outputs": [],
   "source": [
    "best_copy=best.copy()"
   ]
  },
  {
   "cell_type": "code",
   "execution_count": 81,
   "metadata": {},
   "outputs": [],
   "source": [
    "best=(best_copy>10)*1\n",
    "# np.unique(best)"
   ]
  },
  {
   "cell_type": "code",
   "execution_count": 82,
   "metadata": {},
   "outputs": [
    {
     "data": {
      "text/plain": [
       "<matplotlib.image.AxesImage at 0x1d7d52ea9c8>"
      ]
     },
     "execution_count": 82,
     "metadata": {},
     "output_type": "execute_result"
    },
    {
     "data": {
      "image/png": "[encoded data removed]",
      "text/plain": [
       "<Figure size 432x288 with 1 Axes>"
      ]
     },
     "metadata": {
      "needs_background": "light"
     },
     "output_type": "display_data"
    }
   ],
   "source": [
    "plt.imshow(best)"
   ]
  },
  {
   "cell_type": "code",
   "execution_count": 83,
   "metadata": {},
   "outputs": [
    {
     "name": "stdout",
     "output_type": "stream",
     "text": [
      "[[0 0 0 ... 0 0 0]\n",
      " [0 0 0 ... 0 0 0]\n",
      " [0 0 0 ... 0 0 0]\n",
      " ...\n",
      " [0 0 0 ... 0 0 0]\n",
      " [0 0 0 ... 0 0 0]\n",
      " [0 0 0 ... 0 0 0]]\n",
      "162\n"
     ]
    }
   ],
   "source": [
    "labeled_best, ncomponents_best = label(best, structure)\n",
    "print(labeled_best)\n",
    "print(ncomponents_best)"
   ]
  },
  {
   "cell_type": "code",
   "execution_count": null,
   "metadata": {},
   "outputs": [],
   "source": []
  },
  {
   "cell_type": "code",
   "execution_count": null,
   "metadata": {},
   "outputs": [],
   "source": []
  },
  {
   "cell_type": "code",
   "execution_count": 84,
   "metadata": {},
   "outputs": [],
   "source": [
    "J_matrix=ground_truth+J_img\n",
    "L_matrix=ground_truth+L_img\n",
    "S_matrix=ground_truth+S_img\n",
    "Y_matrix=ground_truth+Y_img\n",
    "C_matrix=ground_truth+closing\n",
    "B_matrix=ground_truth+best"
   ]
  },
  {
   "cell_type": "code",
   "execution_count": null,
   "metadata": {},
   "outputs": [],
   "source": []
  },
  {
   "cell_type": "code",
   "execution_count": 95,
   "metadata": {},
   "outputs": [
    {
     "name": "stdout",
     "output_type": "stream",
     "text": [
      "0.7251993303889284 0.6651489460078949 0.7097739835977998 0.6696686865122605 0.5226467424429212 0.6040044970370881\n"
     ]
    }
   ],
   "source": [
    "J_iou=np.count_nonzero(J_matrix==2)/np.count_nonzero(J_matrix)\n",
    "L_iou=np.count_nonzero(L_matrix==2)/np.count_nonzero(L_matrix)\n",
    "S_iou=np.count_nonzero(S_matrix==2)/np.count_nonzero(S_matrix)\n",
    "Y_iou=np.count_nonzero(Y_matrix==2)/np.count_nonzero(Y_matrix)\n",
    "C_iou=np.count_nonzero(C_matrix==2)/np.count_nonzero(C_matrix)\n",
    "B_iou=np.count_nonzero(B_matrix==2)/np.count_nonzero(B_matrix)\n",
    "print(J_iou,L_iou,S_iou,Y_iou,C_iou,B_iou)"
   ]
  },
  {
   "cell_type": "code",
   "execution_count": 96,
   "metadata": {},
   "outputs": [
    {
     "data": {
      "text/html": [
       "<div>\n",
       "<style scoped>\n",
       "    .dataframe tbody tr th:only-of-type {\n",
       "        vertical-align: middle;\n",
       "    }\n",
       "\n",
       "    .dataframe tbody tr th {\n",
       "        vertical-align: top;\n",
       "    }\n",
       "\n",
       "    .dataframe thead th {\n",
       "        text-align: right;\n",
       "    }\n",
       "</style>\n",
       "<table border=\"1\" class=\"dataframe\">\n",
       "  <thead>\n",
       "    <tr style=\"text-align: right;\">\n",
       "      <th></th>\n",
       "      <th>type</th>\n",
       "      <th>metric</th>\n",
       "      <th>Jashjeet</th>\n",
       "      <th>Leah</th>\n",
       "      <th>Sumeet</th>\n",
       "      <th>Yash</th>\n",
       "      <th>Closing</th>\n",
       "      <th>Binary_mask_overlap_0.995</th>\n",
       "    </tr>\n",
       "  </thead>\n",
       "  <tbody>\n",
       "    <tr>\n",
       "      <th>0</th>\n",
       "      <td>four</td>\n",
       "      <td>iou</td>\n",
       "      <td>0.725199</td>\n",
       "      <td>0.665149</td>\n",
       "      <td>0.709774</td>\n",
       "      <td>0.669669</td>\n",
       "      <td>0.522647</td>\n",
       "      <td>0.604004</td>\n",
       "    </tr>\n",
       "  </tbody>\n",
       "</table>\n",
       "</div>"
      ],
      "text/plain": [
       "   type metric  Jashjeet      Leah    Sumeet      Yash   Closing  \\\n",
       "0  four    iou  0.725199  0.665149  0.709774  0.669669  0.522647   \n",
       "\n",
       "   Binary_mask_overlap_0.995  \n",
       "0                   0.604004  "
      ]
     },
     "execution_count": 96,
     "metadata": {},
     "output_type": "execute_result"
    }
   ],
   "source": [
    "df=df.append(pd.DataFrame([['four','iou',J_iou,L_iou,S_iou,Y_iou,C_iou,B_iou]], columns=df.columns))\n",
    "df"
   ]
  },
  {
   "cell_type": "code",
   "execution_count": 97,
   "metadata": {},
   "outputs": [
    {
     "name": "stdout",
     "output_type": "stream",
     "text": [
      "1.0 1.0 1.0 1.0 0.9484854903622114 0.9592369549319163\n"
     ]
    }
   ],
   "source": [
    "J_recall=np.count_nonzero(J_matrix==2)/np.count_nonzero(ground_truth)\n",
    "L_recall=np.count_nonzero(L_matrix==2)/np.count_nonzero(ground_truth)\n",
    "S_recall=np.count_nonzero(S_matrix==2)/np.count_nonzero(ground_truth)\n",
    "Y_recall=np.count_nonzero(Y_matrix==2)/np.count_nonzero(ground_truth)\n",
    "C_recall=np.count_nonzero(C_matrix==2)/np.count_nonzero(ground_truth)\n",
    "B_recall=np.count_nonzero(B_matrix==2)/np.count_nonzero(ground_truth)\n",
    "print(J_recall,L_recall,S_recall,Y_recall,C_recall,B_recall)"
   ]
  },
  {
   "cell_type": "code",
   "execution_count": 98,
   "metadata": {},
   "outputs": [
    {
     "data": {
      "text/html": [
       "<div>\n",
       "<style scoped>\n",
       "    .dataframe tbody tr th:only-of-type {\n",
       "        vertical-align: middle;\n",
       "    }\n",
       "\n",
       "    .dataframe tbody tr th {\n",
       "        vertical-align: top;\n",
       "    }\n",
       "\n",
       "    .dataframe thead th {\n",
       "        text-align: right;\n",
       "    }\n",
       "</style>\n",
       "<table border=\"1\" class=\"dataframe\">\n",
       "  <thead>\n",
       "    <tr style=\"text-align: right;\">\n",
       "      <th></th>\n",
       "      <th>type</th>\n",
       "      <th>metric</th>\n",
       "      <th>Jashjeet</th>\n",
       "      <th>Leah</th>\n",
       "      <th>Sumeet</th>\n",
       "      <th>Yash</th>\n",
       "      <th>Closing</th>\n",
       "      <th>Binary_mask_overlap_0.995</th>\n",
       "    </tr>\n",
       "  </thead>\n",
       "  <tbody>\n",
       "    <tr>\n",
       "      <th>0</th>\n",
       "      <td>four</td>\n",
       "      <td>iou</td>\n",
       "      <td>0.725199</td>\n",
       "      <td>0.665149</td>\n",
       "      <td>0.709774</td>\n",
       "      <td>0.669669</td>\n",
       "      <td>0.522647</td>\n",
       "      <td>0.604004</td>\n",
       "    </tr>\n",
       "    <tr>\n",
       "      <th>0</th>\n",
       "      <td>four</td>\n",
       "      <td>recall</td>\n",
       "      <td>1.000000</td>\n",
       "      <td>1.000000</td>\n",
       "      <td>1.000000</td>\n",
       "      <td>1.000000</td>\n",
       "      <td>0.948485</td>\n",
       "      <td>0.959237</td>\n",
       "    </tr>\n",
       "  </tbody>\n",
       "</table>\n",
       "</div>"
      ],
      "text/plain": [
       "   type  metric  Jashjeet      Leah    Sumeet      Yash   Closing  \\\n",
       "0  four     iou  0.725199  0.665149  0.709774  0.669669  0.522647   \n",
       "0  four  recall  1.000000  1.000000  1.000000  1.000000  0.948485   \n",
       "\n",
       "   Binary_mask_overlap_0.995  \n",
       "0                   0.604004  \n",
       "0                   0.959237  "
      ]
     },
     "execution_count": 98,
     "metadata": {},
     "output_type": "execute_result"
    }
   ],
   "source": [
    "df=df.append(pd.DataFrame([['four','recall',J_recall,L_recall,S_recall,Y_recall,C_recall,B_recall]], columns=df.columns))\n",
    "df"
   ]
  },
  {
   "cell_type": "code",
   "execution_count": 99,
   "metadata": {},
   "outputs": [
    {
     "name": "stdout",
     "output_type": "stream",
     "text": [
      "0.7251993303889284 0.6651489460078949 0.7097739835977998 0.6696686865122605 0.5379161327331649 0.6199160951742035\n"
     ]
    }
   ],
   "source": [
    "J_precision=np.count_nonzero(J_matrix==2)/np.count_nonzero(J_img)\n",
    "L_precision=np.count_nonzero(L_matrix==2)/np.count_nonzero(L_img)\n",
    "S_precision=np.count_nonzero(S_matrix==2)/np.count_nonzero(S_img)\n",
    "Y_precision=np.count_nonzero(Y_matrix==2)/np.count_nonzero(Y_img)\n",
    "C_precision=np.count_nonzero(C_matrix==2)/np.count_nonzero(closing)\n",
    "B_precision=np.count_nonzero(B_matrix==2)/np.count_nonzero(best)\n",
    "print(J_precision,L_precision,S_precision,Y_precision,C_precision,B_precision)"
   ]
  },
  {
   "cell_type": "code",
   "execution_count": 100,
   "metadata": {},
   "outputs": [
    {
     "data": {
      "text/html": [
       "<div>\n",
       "<style scoped>\n",
       "    .dataframe tbody tr th:only-of-type {\n",
       "        vertical-align: middle;\n",
       "    }\n",
       "\n",
       "    .dataframe tbody tr th {\n",
       "        vertical-align: top;\n",
       "    }\n",
       "\n",
       "    .dataframe thead th {\n",
       "        text-align: right;\n",
       "    }\n",
       "</style>\n",
       "<table border=\"1\" class=\"dataframe\">\n",
       "  <thead>\n",
       "    <tr style=\"text-align: right;\">\n",
       "      <th></th>\n",
       "      <th>type</th>\n",
       "      <th>metric</th>\n",
       "      <th>Jashjeet</th>\n",
       "      <th>Leah</th>\n",
       "      <th>Sumeet</th>\n",
       "      <th>Yash</th>\n",
       "      <th>Closing</th>\n",
       "      <th>Binary_mask_overlap_0.995</th>\n",
       "    </tr>\n",
       "  </thead>\n",
       "  <tbody>\n",
       "    <tr>\n",
       "      <th>0</th>\n",
       "      <td>four</td>\n",
       "      <td>iou</td>\n",
       "      <td>0.725199</td>\n",
       "      <td>0.665149</td>\n",
       "      <td>0.709774</td>\n",
       "      <td>0.669669</td>\n",
       "      <td>0.522647</td>\n",
       "      <td>0.604004</td>\n",
       "    </tr>\n",
       "    <tr>\n",
       "      <th>0</th>\n",
       "      <td>four</td>\n",
       "      <td>recall</td>\n",
       "      <td>1.000000</td>\n",
       "      <td>1.000000</td>\n",
       "      <td>1.000000</td>\n",
       "      <td>1.000000</td>\n",
       "      <td>0.948485</td>\n",
       "      <td>0.959237</td>\n",
       "    </tr>\n",
       "    <tr>\n",
       "      <th>0</th>\n",
       "      <td>four</td>\n",
       "      <td>precision</td>\n",
       "      <td>0.725199</td>\n",
       "      <td>0.665149</td>\n",
       "      <td>0.709774</td>\n",
       "      <td>0.669669</td>\n",
       "      <td>0.537916</td>\n",
       "      <td>0.619916</td>\n",
       "    </tr>\n",
       "  </tbody>\n",
       "</table>\n",
       "</div>"
      ],
      "text/plain": [
       "   type     metric  Jashjeet      Leah    Sumeet      Yash   Closing  \\\n",
       "0  four        iou  0.725199  0.665149  0.709774  0.669669  0.522647   \n",
       "0  four     recall  1.000000  1.000000  1.000000  1.000000  0.948485   \n",
       "0  four  precision  0.725199  0.665149  0.709774  0.669669  0.537916   \n",
       "\n",
       "   Binary_mask_overlap_0.995  \n",
       "0                   0.604004  \n",
       "0                   0.959237  \n",
       "0                   0.619916  "
      ]
     },
     "execution_count": 100,
     "metadata": {},
     "output_type": "execute_result"
    }
   ],
   "source": [
    "df=df.append(pd.DataFrame([['four','precision',J_precision,L_precision,S_precision,Y_precision,C_precision,B_precision]], columns=df.columns))\n",
    "df"
   ]
  },
  {
   "cell_type": "code",
   "execution_count": null,
   "metadata": {},
   "outputs": [],
   "source": []
  },
  {
   "cell_type": "code",
   "execution_count": 101,
   "metadata": {},
   "outputs": [
    {
     "data": {
      "text/plain": [
       "True"
      ]
     },
     "execution_count": 101,
     "metadata": {},
     "output_type": "execute_result"
    }
   ],
   "source": [
    "cv2.imwrite('B_matrix_four.jpg',127*B_matrix)"
   ]
  },
  {
   "cell_type": "code",
   "execution_count": null,
   "metadata": {},
   "outputs": [],
   "source": []
  },
  {
   "cell_type": "code",
   "execution_count": 102,
   "metadata": {},
   "outputs": [
    {
     "data": {
      "text/plain": [
       "True"
      ]
     },
     "execution_count": 102,
     "metadata": {},
     "output_type": "execute_result"
    }
   ],
   "source": [
    "B_recall_four_jpg=(B_matrix==2)*127+ground_truth*127\n",
    "cv2.imwrite('B_recall_four.jpg',B_recall_four_jpg)"
   ]
  },
  {
   "cell_type": "code",
   "execution_count": 103,
   "metadata": {},
   "outputs": [
    {
     "data": {
      "text/plain": [
       "True"
      ]
     },
     "execution_count": 103,
     "metadata": {},
     "output_type": "execute_result"
    }
   ],
   "source": [
    "B_precision_four_jpg=(B_matrix==2)*127+best*127\n",
    "cv2.imwrite('B_precision_four.jpg',B_precision_four_jpg)"
   ]
  },
  {
   "cell_type": "code",
   "execution_count": 104,
   "metadata": {},
   "outputs": [],
   "source": [
    "best_2=(best>=1)*2"
   ]
  },
  {
   "cell_type": "code",
   "execution_count": 105,
   "metadata": {},
   "outputs": [],
   "source": [
    "color_matrix=ground_truth+best_2"
   ]
  },
  {
   "cell_type": "code",
   "execution_count": 106,
   "metadata": {},
   "outputs": [],
   "source": [
    "color_matrix_stack=np.stack((color_matrix,color_matrix,color_matrix),axis=-1)"
   ]
  },
  {
   "cell_type": "code",
   "execution_count": 107,
   "metadata": {},
   "outputs": [],
   "source": [
    "color_matrix_stack[np.where((color_matrix_stack==[0,0,0]).all(axis=2))] = [255,255,255]#white for background\n",
    "color_matrix_stack[np.where((color_matrix_stack==[1,1,1]).all(axis=2))] = [255,0,0]#blue for groundtruth\n",
    "color_matrix_stack[np.where((color_matrix_stack==[2,2,2]).all(axis=2))] = [0,0,255]#red for prediction\n",
    "color_matrix_stack[np.where((color_matrix_stack==[3,3,3]).all(axis=2))] = [0,255,0]#green for overlap"
   ]
  },
  {
   "cell_type": "code",
   "execution_count": 108,
   "metadata": {},
   "outputs": [],
   "source": [
    "# plt.imshow(color_matrix_stack)"
   ]
  },
  {
   "cell_type": "code",
   "execution_count": 109,
   "metadata": {},
   "outputs": [
    {
     "data": {
      "text/plain": [
       "True"
      ]
     },
     "execution_count": 109,
     "metadata": {},
     "output_type": "execute_result"
    }
   ],
   "source": [
    "cv2.imwrite('color_matrix_stack_four.jpg',color_matrix_stack)"
   ]
  },
  {
   "cell_type": "markdown",
   "metadata": {},
   "source": [
    "# Comparison with ground truth of 1"
   ]
  },
  {
   "cell_type": "code",
   "execution_count": 110,
   "metadata": {},
   "outputs": [],
   "source": [
    "ground_truth_one=one//255"
   ]
  },
  {
   "cell_type": "code",
   "execution_count": 111,
   "metadata": {},
   "outputs": [
    {
     "data": {
      "text/plain": [
       "array([0, 1], dtype=int32)"
      ]
     },
     "execution_count": 111,
     "metadata": {},
     "output_type": "execute_result"
    }
   ],
   "source": [
    "np.unique(ground_truth_one)"
   ]
  },
  {
   "cell_type": "code",
   "execution_count": 118,
   "metadata": {},
   "outputs": [],
   "source": [
    "J_matrix_one=ground_truth_one+J_img\n",
    "L_matrix_one=ground_truth_one+L_img\n",
    "S_matrix_one=ground_truth_one+S_img\n",
    "Y_matrix_one=ground_truth_one+Y_img\n",
    "C_matrix_one=ground_truth_one+closing\n",
    "B_matrix_one=ground_truth_one+best\n",
    "# print(J_matrix_one,L_matrix_one,S_matrix_one,Y_matrix_one,C_matrix_one,B_matrix_one)"
   ]
  },
  {
   "cell_type": "code",
   "execution_count": 119,
   "metadata": {},
   "outputs": [
    {
     "name": "stdout",
     "output_type": "stream",
     "text": [
      "0.729782567817759 0.795668147243324 0.7456427563437563 0.79029800880687 0.6668798367188896 0.7349983257974707\n"
     ]
    }
   ],
   "source": [
    "J_iou_one=np.count_nonzero(J_matrix_one==2)/np.count_nonzero(J_matrix_one)\n",
    "L_iou_one=np.count_nonzero(L_matrix_one==2)/np.count_nonzero(L_matrix_one)\n",
    "S_iou_one=np.count_nonzero(S_matrix_one==2)/np.count_nonzero(S_matrix_one)\n",
    "Y_iou_one=np.count_nonzero(Y_matrix_one==2)/np.count_nonzero(Y_matrix_one)\n",
    "C_iou_one=np.count_nonzero(C_matrix_one==2)/np.count_nonzero(C_matrix_one)\n",
    "B_iou_one=np.count_nonzero(B_matrix_one==2)/np.count_nonzero(B_matrix_one)\n",
    "print(J_iou_one,L_iou_one,S_iou_one,Y_iou_one,C_iou_one,B_iou_one)"
   ]
  },
  {
   "cell_type": "code",
   "execution_count": 120,
   "metadata": {},
   "outputs": [
    {
     "data": {
      "text/html": [
       "<div>\n",
       "<style scoped>\n",
       "    .dataframe tbody tr th:only-of-type {\n",
       "        vertical-align: middle;\n",
       "    }\n",
       "\n",
       "    .dataframe tbody tr th {\n",
       "        vertical-align: top;\n",
       "    }\n",
       "\n",
       "    .dataframe thead th {\n",
       "        text-align: right;\n",
       "    }\n",
       "</style>\n",
       "<table border=\"1\" class=\"dataframe\">\n",
       "  <thead>\n",
       "    <tr style=\"text-align: right;\">\n",
       "      <th></th>\n",
       "      <th>type</th>\n",
       "      <th>metric</th>\n",
       "      <th>Jashjeet</th>\n",
       "      <th>Leah</th>\n",
       "      <th>Sumeet</th>\n",
       "      <th>Yash</th>\n",
       "      <th>Closing</th>\n",
       "      <th>Binary_mask_overlap_0.995</th>\n",
       "    </tr>\n",
       "  </thead>\n",
       "  <tbody>\n",
       "    <tr>\n",
       "      <th>0</th>\n",
       "      <td>four</td>\n",
       "      <td>iou</td>\n",
       "      <td>0.725199</td>\n",
       "      <td>0.665149</td>\n",
       "      <td>0.709774</td>\n",
       "      <td>0.669669</td>\n",
       "      <td>0.522647</td>\n",
       "      <td>0.604004</td>\n",
       "    </tr>\n",
       "    <tr>\n",
       "      <th>0</th>\n",
       "      <td>four</td>\n",
       "      <td>recall</td>\n",
       "      <td>1.000000</td>\n",
       "      <td>1.000000</td>\n",
       "      <td>1.000000</td>\n",
       "      <td>1.000000</td>\n",
       "      <td>0.948485</td>\n",
       "      <td>0.959237</td>\n",
       "    </tr>\n",
       "    <tr>\n",
       "      <th>0</th>\n",
       "      <td>four</td>\n",
       "      <td>precision</td>\n",
       "      <td>0.725199</td>\n",
       "      <td>0.665149</td>\n",
       "      <td>0.709774</td>\n",
       "      <td>0.669669</td>\n",
       "      <td>0.537916</td>\n",
       "      <td>0.619916</td>\n",
       "    </tr>\n",
       "    <tr>\n",
       "      <th>0</th>\n",
       "      <td>one</td>\n",
       "      <td>iou</td>\n",
       "      <td>0.729783</td>\n",
       "      <td>0.795668</td>\n",
       "      <td>0.745643</td>\n",
       "      <td>0.790298</td>\n",
       "      <td>0.666880</td>\n",
       "      <td>0.734998</td>\n",
       "    </tr>\n",
       "  </tbody>\n",
       "</table>\n",
       "</div>"
      ],
      "text/plain": [
       "   type     metric  Jashjeet      Leah    Sumeet      Yash   Closing  \\\n",
       "0  four        iou  0.725199  0.665149  0.709774  0.669669  0.522647   \n",
       "0  four     recall  1.000000  1.000000  1.000000  1.000000  0.948485   \n",
       "0  four  precision  0.725199  0.665149  0.709774  0.669669  0.537916   \n",
       "0   one        iou  0.729783  0.795668  0.745643  0.790298  0.666880   \n",
       "\n",
       "   Binary_mask_overlap_0.995  \n",
       "0                   0.604004  \n",
       "0                   0.959237  \n",
       "0                   0.619916  \n",
       "0                   0.734998  "
      ]
     },
     "execution_count": 120,
     "metadata": {},
     "output_type": "execute_result"
    }
   ],
   "source": [
    "df=df.append(pd.DataFrame([['one','iou',J_iou_one,L_iou_one,S_iou_one,Y_iou_one,C_iou_one,B_iou_one]], columns=df.columns))\n",
    "df"
   ]
  },
  {
   "cell_type": "code",
   "execution_count": 121,
   "metadata": {},
   "outputs": [
    {
     "name": "stdout",
     "output_type": "stream",
     "text": [
      "0.729782567817759 0.795668147243324 0.7456427563437563 0.79029800880687 0.7734216933365213 0.770552022541031\n"
     ]
    }
   ],
   "source": [
    "J_recall_one=np.count_nonzero(J_matrix_one==2)/np.count_nonzero(ground_truth_one)\n",
    "L_recall_one=np.count_nonzero(L_matrix_one==2)/np.count_nonzero(ground_truth_one)\n",
    "S_recall_one=np.count_nonzero(S_matrix_one==2)/np.count_nonzero(ground_truth_one)\n",
    "Y_recall_one=np.count_nonzero(Y_matrix_one==2)/np.count_nonzero(ground_truth_one)\n",
    "C_recall_one=np.count_nonzero(C_matrix_one==2)/np.count_nonzero(ground_truth_one)\n",
    "B_recall_one=np.count_nonzero(B_matrix_one==2)/np.count_nonzero(ground_truth_one)\n",
    "print(J_recall_one,L_recall_one,S_recall_one,Y_recall_one,C_recall_one,B_recall_one)"
   ]
  },
  {
   "cell_type": "code",
   "execution_count": 122,
   "metadata": {},
   "outputs": [
    {
     "data": {
      "text/html": [
       "<div>\n",
       "<style scoped>\n",
       "    .dataframe tbody tr th:only-of-type {\n",
       "        vertical-align: middle;\n",
       "    }\n",
       "\n",
       "    .dataframe tbody tr th {\n",
       "        vertical-align: top;\n",
       "    }\n",
       "\n",
       "    .dataframe thead th {\n",
       "        text-align: right;\n",
       "    }\n",
       "</style>\n",
       "<table border=\"1\" class=\"dataframe\">\n",
       "  <thead>\n",
       "    <tr style=\"text-align: right;\">\n",
       "      <th></th>\n",
       "      <th>type</th>\n",
       "      <th>metric</th>\n",
       "      <th>Jashjeet</th>\n",
       "      <th>Leah</th>\n",
       "      <th>Sumeet</th>\n",
       "      <th>Yash</th>\n",
       "      <th>Closing</th>\n",
       "      <th>Binary_mask_overlap_0.995</th>\n",
       "    </tr>\n",
       "  </thead>\n",
       "  <tbody>\n",
       "    <tr>\n",
       "      <th>0</th>\n",
       "      <td>four</td>\n",
       "      <td>iou</td>\n",
       "      <td>0.725199</td>\n",
       "      <td>0.665149</td>\n",
       "      <td>0.709774</td>\n",
       "      <td>0.669669</td>\n",
       "      <td>0.522647</td>\n",
       "      <td>0.604004</td>\n",
       "    </tr>\n",
       "    <tr>\n",
       "      <th>0</th>\n",
       "      <td>four</td>\n",
       "      <td>recall</td>\n",
       "      <td>1.000000</td>\n",
       "      <td>1.000000</td>\n",
       "      <td>1.000000</td>\n",
       "      <td>1.000000</td>\n",
       "      <td>0.948485</td>\n",
       "      <td>0.959237</td>\n",
       "    </tr>\n",
       "    <tr>\n",
       "      <th>0</th>\n",
       "      <td>four</td>\n",
       "      <td>precision</td>\n",
       "      <td>0.725199</td>\n",
       "      <td>0.665149</td>\n",
       "      <td>0.709774</td>\n",
       "      <td>0.669669</td>\n",
       "      <td>0.537916</td>\n",
       "      <td>0.619916</td>\n",
       "    </tr>\n",
       "    <tr>\n",
       "      <th>0</th>\n",
       "      <td>one</td>\n",
       "      <td>iou</td>\n",
       "      <td>0.729783</td>\n",
       "      <td>0.795668</td>\n",
       "      <td>0.745643</td>\n",
       "      <td>0.790298</td>\n",
       "      <td>0.666880</td>\n",
       "      <td>0.734998</td>\n",
       "    </tr>\n",
       "    <tr>\n",
       "      <th>0</th>\n",
       "      <td>one</td>\n",
       "      <td>recall</td>\n",
       "      <td>0.729783</td>\n",
       "      <td>0.795668</td>\n",
       "      <td>0.745643</td>\n",
       "      <td>0.790298</td>\n",
       "      <td>0.773422</td>\n",
       "      <td>0.770552</td>\n",
       "    </tr>\n",
       "  </tbody>\n",
       "</table>\n",
       "</div>"
      ],
      "text/plain": [
       "   type     metric  Jashjeet      Leah    Sumeet      Yash   Closing  \\\n",
       "0  four        iou  0.725199  0.665149  0.709774  0.669669  0.522647   \n",
       "0  four     recall  1.000000  1.000000  1.000000  1.000000  0.948485   \n",
       "0  four  precision  0.725199  0.665149  0.709774  0.669669  0.537916   \n",
       "0   one        iou  0.729783  0.795668  0.745643  0.790298  0.666880   \n",
       "0   one     recall  0.729783  0.795668  0.745643  0.790298  0.773422   \n",
       "\n",
       "   Binary_mask_overlap_0.995  \n",
       "0                   0.604004  \n",
       "0                   0.959237  \n",
       "0                   0.619916  \n",
       "0                   0.734998  \n",
       "0                   0.770552  "
      ]
     },
     "execution_count": 122,
     "metadata": {},
     "output_type": "execute_result"
    }
   ],
   "source": [
    "df=df.append(pd.DataFrame([['one','recall',J_recall_one,L_recall_one,S_recall_one,Y_recall_one,C_recall_one,B_recall_one]], columns=df.columns))\n",
    "df"
   ]
  },
  {
   "cell_type": "code",
   "execution_count": 123,
   "metadata": {},
   "outputs": [
    {
     "name": "stdout",
     "output_type": "stream",
     "text": [
      "1.0 1.0 1.0 1.0 0.8287992463229394 0.9409316900889149\n"
     ]
    }
   ],
   "source": [
    "J_precision_one=np.count_nonzero(J_matrix_one==2)/np.count_nonzero(J_img)\n",
    "L_precision_one=np.count_nonzero(L_matrix_one==2)/np.count_nonzero(L_img)\n",
    "S_precision_one=np.count_nonzero(S_matrix_one==2)/np.count_nonzero(S_img)\n",
    "Y_precision_one=np.count_nonzero(Y_matrix_one==2)/np.count_nonzero(Y_img)\n",
    "C_precision_one=np.count_nonzero(C_matrix_one==2)/np.count_nonzero(closing)\n",
    "B_precision_one=np.count_nonzero(B_matrix_one==2)/np.count_nonzero(best)\n",
    "print(J_precision_one,L_precision_one,S_precision_one,Y_precision_one,C_precision_one,B_precision_one)"
   ]
  },
  {
   "cell_type": "code",
   "execution_count": 124,
   "metadata": {},
   "outputs": [
    {
     "data": {
      "text/html": [
       "<div>\n",
       "<style scoped>\n",
       "    .dataframe tbody tr th:only-of-type {\n",
       "        vertical-align: middle;\n",
       "    }\n",
       "\n",
       "    .dataframe tbody tr th {\n",
       "        vertical-align: top;\n",
       "    }\n",
       "\n",
       "    .dataframe thead th {\n",
       "        text-align: right;\n",
       "    }\n",
       "</style>\n",
       "<table border=\"1\" class=\"dataframe\">\n",
       "  <thead>\n",
       "    <tr style=\"text-align: right;\">\n",
       "      <th></th>\n",
       "      <th>type</th>\n",
       "      <th>metric</th>\n",
       "      <th>Jashjeet</th>\n",
       "      <th>Leah</th>\n",
       "      <th>Sumeet</th>\n",
       "      <th>Yash</th>\n",
       "      <th>Closing</th>\n",
       "      <th>Binary_mask_overlap_0.995</th>\n",
       "    </tr>\n",
       "  </thead>\n",
       "  <tbody>\n",
       "    <tr>\n",
       "      <th>0</th>\n",
       "      <td>four</td>\n",
       "      <td>iou</td>\n",
       "      <td>0.725199</td>\n",
       "      <td>0.665149</td>\n",
       "      <td>0.709774</td>\n",
       "      <td>0.669669</td>\n",
       "      <td>0.522647</td>\n",
       "      <td>0.604004</td>\n",
       "    </tr>\n",
       "    <tr>\n",
       "      <th>0</th>\n",
       "      <td>four</td>\n",
       "      <td>recall</td>\n",
       "      <td>1.000000</td>\n",
       "      <td>1.000000</td>\n",
       "      <td>1.000000</td>\n",
       "      <td>1.000000</td>\n",
       "      <td>0.948485</td>\n",
       "      <td>0.959237</td>\n",
       "    </tr>\n",
       "    <tr>\n",
       "      <th>0</th>\n",
       "      <td>four</td>\n",
       "      <td>precision</td>\n",
       "      <td>0.725199</td>\n",
       "      <td>0.665149</td>\n",
       "      <td>0.709774</td>\n",
       "      <td>0.669669</td>\n",
       "      <td>0.537916</td>\n",
       "      <td>0.619916</td>\n",
       "    </tr>\n",
       "    <tr>\n",
       "      <th>0</th>\n",
       "      <td>one</td>\n",
       "      <td>iou</td>\n",
       "      <td>0.729783</td>\n",
       "      <td>0.795668</td>\n",
       "      <td>0.745643</td>\n",
       "      <td>0.790298</td>\n",
       "      <td>0.666880</td>\n",
       "      <td>0.734998</td>\n",
       "    </tr>\n",
       "    <tr>\n",
       "      <th>0</th>\n",
       "      <td>one</td>\n",
       "      <td>recall</td>\n",
       "      <td>0.729783</td>\n",
       "      <td>0.795668</td>\n",
       "      <td>0.745643</td>\n",
       "      <td>0.790298</td>\n",
       "      <td>0.773422</td>\n",
       "      <td>0.770552</td>\n",
       "    </tr>\n",
       "    <tr>\n",
       "      <th>0</th>\n",
       "      <td>one</td>\n",
       "      <td>precision</td>\n",
       "      <td>1.000000</td>\n",
       "      <td>1.000000</td>\n",
       "      <td>1.000000</td>\n",
       "      <td>1.000000</td>\n",
       "      <td>0.828799</td>\n",
       "      <td>0.940932</td>\n",
       "    </tr>\n",
       "  </tbody>\n",
       "</table>\n",
       "</div>"
      ],
      "text/plain": [
       "   type     metric  Jashjeet      Leah    Sumeet      Yash   Closing  \\\n",
       "0  four        iou  0.725199  0.665149  0.709774  0.669669  0.522647   \n",
       "0  four     recall  1.000000  1.000000  1.000000  1.000000  0.948485   \n",
       "0  four  precision  0.725199  0.665149  0.709774  0.669669  0.537916   \n",
       "0   one        iou  0.729783  0.795668  0.745643  0.790298  0.666880   \n",
       "0   one     recall  0.729783  0.795668  0.745643  0.790298  0.773422   \n",
       "0   one  precision  1.000000  1.000000  1.000000  1.000000  0.828799   \n",
       "\n",
       "   Binary_mask_overlap_0.995  \n",
       "0                   0.604004  \n",
       "0                   0.959237  \n",
       "0                   0.619916  \n",
       "0                   0.734998  \n",
       "0                   0.770552  \n",
       "0                   0.940932  "
      ]
     },
     "execution_count": 124,
     "metadata": {},
     "output_type": "execute_result"
    }
   ],
   "source": [
    "df=df.append(pd.DataFrame([['one','precision',J_precision_one,L_precision_one,S_precision_one,Y_precision_one,C_precision_one,B_precision_one]], columns=df.columns))\n",
    "df"
   ]
  },
  {
   "cell_type": "code",
   "execution_count": 125,
   "metadata": {},
   "outputs": [
    {
     "data": {
      "text/plain": [
       "True"
      ]
     },
     "execution_count": 125,
     "metadata": {},
     "output_type": "execute_result"
    }
   ],
   "source": [
    "cv2.imwrite('B_matrix_one.jpg',127*B_matrix_one)"
   ]
  },
  {
   "cell_type": "code",
   "execution_count": null,
   "metadata": {},
   "outputs": [],
   "source": []
  },
  {
   "cell_type": "code",
   "execution_count": 126,
   "metadata": {},
   "outputs": [
    {
     "data": {
      "text/plain": [
       "True"
      ]
     },
     "execution_count": 126,
     "metadata": {},
     "output_type": "execute_result"
    }
   ],
   "source": [
    "B_recall_one_jpg=(B_matrix_one==2)*127+ground_truth_one*127\n",
    "cv2.imwrite('B_recall_one.jpg',B_recall_one_jpg)"
   ]
  },
  {
   "cell_type": "code",
   "execution_count": 127,
   "metadata": {},
   "outputs": [
    {
     "data": {
      "text/plain": [
       "True"
      ]
     },
     "execution_count": 127,
     "metadata": {},
     "output_type": "execute_result"
    }
   ],
   "source": [
    "B_precision_one_jpg=(B_matrix_one==2)*127+best*127\n",
    "cv2.imwrite('B_precision_one.jpg',B_precision_one_jpg)"
   ]
  },
  {
   "cell_type": "code",
   "execution_count": 128,
   "metadata": {},
   "outputs": [
    {
     "data": {
      "text/html": [
       "<div>\n",
       "<style scoped>\n",
       "    .dataframe tbody tr th:only-of-type {\n",
       "        vertical-align: middle;\n",
       "    }\n",
       "\n",
       "    .dataframe tbody tr th {\n",
       "        vertical-align: top;\n",
       "    }\n",
       "\n",
       "    .dataframe thead th {\n",
       "        text-align: right;\n",
       "    }\n",
       "</style>\n",
       "<table border=\"1\" class=\"dataframe\">\n",
       "  <thead>\n",
       "    <tr style=\"text-align: right;\">\n",
       "      <th></th>\n",
       "      <th>type</th>\n",
       "      <th>metric</th>\n",
       "      <th>Jashjeet</th>\n",
       "      <th>Leah</th>\n",
       "      <th>Sumeet</th>\n",
       "      <th>Yash</th>\n",
       "      <th>Closing</th>\n",
       "      <th>Binary_mask_overlap_0.995</th>\n",
       "    </tr>\n",
       "  </thead>\n",
       "  <tbody>\n",
       "    <tr>\n",
       "      <th>0</th>\n",
       "      <td>four</td>\n",
       "      <td>iou</td>\n",
       "      <td>0.725199</td>\n",
       "      <td>0.665149</td>\n",
       "      <td>0.709774</td>\n",
       "      <td>0.669669</td>\n",
       "      <td>0.522647</td>\n",
       "      <td>0.604004</td>\n",
       "    </tr>\n",
       "    <tr>\n",
       "      <th>0</th>\n",
       "      <td>four</td>\n",
       "      <td>recall</td>\n",
       "      <td>1.000000</td>\n",
       "      <td>1.000000</td>\n",
       "      <td>1.000000</td>\n",
       "      <td>1.000000</td>\n",
       "      <td>0.948485</td>\n",
       "      <td>0.959237</td>\n",
       "    </tr>\n",
       "    <tr>\n",
       "      <th>0</th>\n",
       "      <td>four</td>\n",
       "      <td>precision</td>\n",
       "      <td>0.725199</td>\n",
       "      <td>0.665149</td>\n",
       "      <td>0.709774</td>\n",
       "      <td>0.669669</td>\n",
       "      <td>0.537916</td>\n",
       "      <td>0.619916</td>\n",
       "    </tr>\n",
       "    <tr>\n",
       "      <th>0</th>\n",
       "      <td>one</td>\n",
       "      <td>iou</td>\n",
       "      <td>0.729783</td>\n",
       "      <td>0.795668</td>\n",
       "      <td>0.745643</td>\n",
       "      <td>0.790298</td>\n",
       "      <td>0.666880</td>\n",
       "      <td>0.734998</td>\n",
       "    </tr>\n",
       "    <tr>\n",
       "      <th>0</th>\n",
       "      <td>one</td>\n",
       "      <td>recall</td>\n",
       "      <td>0.729783</td>\n",
       "      <td>0.795668</td>\n",
       "      <td>0.745643</td>\n",
       "      <td>0.790298</td>\n",
       "      <td>0.773422</td>\n",
       "      <td>0.770552</td>\n",
       "    </tr>\n",
       "    <tr>\n",
       "      <th>0</th>\n",
       "      <td>one</td>\n",
       "      <td>precision</td>\n",
       "      <td>1.000000</td>\n",
       "      <td>1.000000</td>\n",
       "      <td>1.000000</td>\n",
       "      <td>1.000000</td>\n",
       "      <td>0.828799</td>\n",
       "      <td>0.940932</td>\n",
       "    </tr>\n",
       "  </tbody>\n",
       "</table>\n",
       "</div>"
      ],
      "text/plain": [
       "   type     metric  Jashjeet      Leah    Sumeet      Yash   Closing  \\\n",
       "0  four        iou  0.725199  0.665149  0.709774  0.669669  0.522647   \n",
       "0  four     recall  1.000000  1.000000  1.000000  1.000000  0.948485   \n",
       "0  four  precision  0.725199  0.665149  0.709774  0.669669  0.537916   \n",
       "0   one        iou  0.729783  0.795668  0.745643  0.790298  0.666880   \n",
       "0   one     recall  0.729783  0.795668  0.745643  0.790298  0.773422   \n",
       "0   one  precision  1.000000  1.000000  1.000000  1.000000  0.828799   \n",
       "\n",
       "   Binary_mask_overlap_0.995  \n",
       "0                   0.604004  \n",
       "0                   0.959237  \n",
       "0                   0.619916  \n",
       "0                   0.734998  \n",
       "0                   0.770552  \n",
       "0                   0.940932  "
      ]
     },
     "execution_count": 128,
     "metadata": {},
     "output_type": "execute_result"
    }
   ],
   "source": [
    "df"
   ]
  },
  {
   "cell_type": "code",
   "execution_count": 129,
   "metadata": {},
   "outputs": [
    {
     "data": {
      "text/html": [
       "<div>\n",
       "<style scoped>\n",
       "    .dataframe tbody tr th:only-of-type {\n",
       "        vertical-align: middle;\n",
       "    }\n",
       "\n",
       "    .dataframe tbody tr th {\n",
       "        vertical-align: top;\n",
       "    }\n",
       "\n",
       "    .dataframe thead th {\n",
       "        text-align: right;\n",
       "    }\n",
       "</style>\n",
       "<table border=\"1\" class=\"dataframe\">\n",
       "  <thead>\n",
       "    <tr style=\"text-align: right;\">\n",
       "      <th></th>\n",
       "      <th>type</th>\n",
       "      <th>metric</th>\n",
       "      <th>Jashjeet</th>\n",
       "      <th>Leah</th>\n",
       "      <th>Sumeet</th>\n",
       "      <th>Yash</th>\n",
       "      <th>Closing</th>\n",
       "      <th>Binary_mask_overlap_0.995</th>\n",
       "    </tr>\n",
       "  </thead>\n",
       "  <tbody>\n",
       "    <tr>\n",
       "      <th>0</th>\n",
       "      <td>four</td>\n",
       "      <td>iou</td>\n",
       "      <td>0.725</td>\n",
       "      <td>0.665</td>\n",
       "      <td>0.710</td>\n",
       "      <td>0.67</td>\n",
       "      <td>0.523</td>\n",
       "      <td>0.604</td>\n",
       "    </tr>\n",
       "    <tr>\n",
       "      <th>0</th>\n",
       "      <td>four</td>\n",
       "      <td>recall</td>\n",
       "      <td>1.000</td>\n",
       "      <td>1.000</td>\n",
       "      <td>1.000</td>\n",
       "      <td>1.00</td>\n",
       "      <td>0.948</td>\n",
       "      <td>0.959</td>\n",
       "    </tr>\n",
       "    <tr>\n",
       "      <th>0</th>\n",
       "      <td>four</td>\n",
       "      <td>precision</td>\n",
       "      <td>0.725</td>\n",
       "      <td>0.665</td>\n",
       "      <td>0.710</td>\n",
       "      <td>0.67</td>\n",
       "      <td>0.538</td>\n",
       "      <td>0.620</td>\n",
       "    </tr>\n",
       "    <tr>\n",
       "      <th>0</th>\n",
       "      <td>one</td>\n",
       "      <td>iou</td>\n",
       "      <td>0.730</td>\n",
       "      <td>0.796</td>\n",
       "      <td>0.746</td>\n",
       "      <td>0.79</td>\n",
       "      <td>0.667</td>\n",
       "      <td>0.735</td>\n",
       "    </tr>\n",
       "    <tr>\n",
       "      <th>0</th>\n",
       "      <td>one</td>\n",
       "      <td>recall</td>\n",
       "      <td>0.730</td>\n",
       "      <td>0.796</td>\n",
       "      <td>0.746</td>\n",
       "      <td>0.79</td>\n",
       "      <td>0.773</td>\n",
       "      <td>0.771</td>\n",
       "    </tr>\n",
       "    <tr>\n",
       "      <th>0</th>\n",
       "      <td>one</td>\n",
       "      <td>precision</td>\n",
       "      <td>1.000</td>\n",
       "      <td>1.000</td>\n",
       "      <td>1.000</td>\n",
       "      <td>1.00</td>\n",
       "      <td>0.829</td>\n",
       "      <td>0.941</td>\n",
       "    </tr>\n",
       "  </tbody>\n",
       "</table>\n",
       "</div>"
      ],
      "text/plain": [
       "   type     metric  Jashjeet   Leah  Sumeet  Yash  Closing  \\\n",
       "0  four        iou     0.725  0.665   0.710  0.67    0.523   \n",
       "0  four     recall     1.000  1.000   1.000  1.00    0.948   \n",
       "0  four  precision     0.725  0.665   0.710  0.67    0.538   \n",
       "0   one        iou     0.730  0.796   0.746  0.79    0.667   \n",
       "0   one     recall     0.730  0.796   0.746  0.79    0.773   \n",
       "0   one  precision     1.000  1.000   1.000  1.00    0.829   \n",
       "\n",
       "   Binary_mask_overlap_0.995  \n",
       "0                      0.604  \n",
       "0                      0.959  \n",
       "0                      0.620  \n",
       "0                      0.735  \n",
       "0                      0.771  \n",
       "0                      0.941  "
      ]
     },
     "execution_count": 129,
     "metadata": {},
     "output_type": "execute_result"
    }
   ],
   "source": [
    "df=df.round(3)\n",
    "df"
   ]
  },
  {
   "cell_type": "code",
   "execution_count": 132,
   "metadata": {},
   "outputs": [],
   "source": [
    "color_matrix_one=ground_truth_one+best_2"
   ]
  },
  {
   "cell_type": "code",
   "execution_count": 133,
   "metadata": {},
   "outputs": [],
   "source": [
    "color_matrix_stack_one=np.stack((color_matrix_one,color_matrix_one,color_matrix_one),axis=-1)"
   ]
  },
  {
   "cell_type": "code",
   "execution_count": 134,
   "metadata": {},
   "outputs": [],
   "source": [
    "color_matrix_stack_one[np.where((color_matrix_stack_one==[0,0,0]).all(axis=2))] = [255,255,255]#white for background\n",
    "color_matrix_stack_one[np.where((color_matrix_stack_one==[1,1,1]).all(axis=2))] = [255,0,0]#blue for groundtruth\n",
    "color_matrix_stack_one[np.where((color_matrix_stack_one==[2,2,2]).all(axis=2))] = [0,0,255]#red for prediction\n",
    "color_matrix_stack_one[np.where((color_matrix_stack_one==[3,3,3]).all(axis=2))] = [0,255,0]#green for overlap"
   ]
  },
  {
   "cell_type": "code",
   "execution_count": 136,
   "metadata": {},
   "outputs": [
    {
     "data": {
      "text/plain": [
       "True"
      ]
     },
     "execution_count": 136,
     "metadata": {},
     "output_type": "execute_result"
    }
   ],
   "source": [
    "cv2.imwrite('color_matrix_stack_one.jpg',color_matrix_stack_one)"
   ]
  },
  {
   "cell_type": "markdown",
   "metadata": {},
   "source": [
    "# Comparison with ground truth of 3"
   ]
  },
  {
   "cell_type": "code",
   "execution_count": 137,
   "metadata": {},
   "outputs": [],
   "source": [
    "ground_truth_three=three//255"
   ]
  },
  {
   "cell_type": "code",
   "execution_count": 138,
   "metadata": {},
   "outputs": [
    {
     "data": {
      "text/plain": [
       "array([0, 1], dtype=int32)"
      ]
     },
     "execution_count": 138,
     "metadata": {},
     "output_type": "execute_result"
    }
   ],
   "source": [
    "np.unique(ground_truth_three)"
   ]
  },
  {
   "cell_type": "code",
   "execution_count": 150,
   "metadata": {},
   "outputs": [
    {
     "ename": "MemoryError",
     "evalue": "Unable to allocate 1.61 GiB for an array with shape (13390, 16110) and data type float64",
     "output_type": "error",
     "traceback": [
      "\u001b[1;31m---------------------------------------------------------------------------\u001b[0m",
      "\u001b[1;31mMemoryError\u001b[0m                               Traceback (most recent call last)",
      "\u001b[1;32m<ipython-input-150-2b3355081802>\u001b[0m in \u001b[0;36m<module>\u001b[1;34m\u001b[0m\n\u001b[1;32m----> 1\u001b[1;33m \u001b[0mJ_matrix_three\u001b[0m\u001b[1;33m=\u001b[0m\u001b[0mground_truth_three\u001b[0m\u001b[1;33m+\u001b[0m\u001b[0mJ_img\u001b[0m\u001b[1;33m\u001b[0m\u001b[1;33m\u001b[0m\u001b[0m\n\u001b[0m\u001b[0;32m      2\u001b[0m \u001b[0mL_matrix_three\u001b[0m\u001b[1;33m=\u001b[0m\u001b[0mground_truth_three\u001b[0m\u001b[1;33m+\u001b[0m\u001b[0mL_img\u001b[0m\u001b[1;33m\u001b[0m\u001b[1;33m\u001b[0m\u001b[0m\n\u001b[0;32m      3\u001b[0m \u001b[0mS_matrix_three\u001b[0m\u001b[1;33m=\u001b[0m\u001b[0mground_truth_three\u001b[0m\u001b[1;33m+\u001b[0m\u001b[0mS_img\u001b[0m\u001b[1;33m\u001b[0m\u001b[1;33m\u001b[0m\u001b[0m\n\u001b[0;32m      4\u001b[0m \u001b[0mY_matrix_three\u001b[0m\u001b[1;33m=\u001b[0m\u001b[0mground_truth_three\u001b[0m\u001b[1;33m+\u001b[0m\u001b[0mY_img\u001b[0m\u001b[1;33m\u001b[0m\u001b[1;33m\u001b[0m\u001b[0m\n\u001b[0;32m      5\u001b[0m \u001b[0mC_matrix_three\u001b[0m\u001b[1;33m=\u001b[0m\u001b[0mground_truth_three\u001b[0m\u001b[1;33m+\u001b[0m\u001b[0mclosing\u001b[0m\u001b[1;33m\u001b[0m\u001b[1;33m\u001b[0m\u001b[0m\n",
      "\u001b[1;31mMemoryError\u001b[0m: Unable to allocate 1.61 GiB for an array with shape (13390, 16110) and data type float64"
     ]
    }
   ],
   "source": [
    "J_matrix_three=ground_truth_three+J_img\n",
    "L_matrix_three=ground_truth_three+L_img\n",
    "S_matrix_three=ground_truth_three+S_img\n",
    "Y_matrix_three=ground_truth_three+Y_img\n",
    "C_matrix_three=ground_truth_three+closing\n",
    "B_matrix_three=ground_truth_three+best\n",
    "# print(J_matrix_three,L_matrix_three,S_matrix_three,Y_matrix_three,C_matrix_three,B_matrix_three)"
   ]
  },
  {
   "cell_type": "code",
   "execution_count": null,
   "metadata": {},
   "outputs": [],
   "source": [
    "J_iou_three=np.count_nonzero(J_matrix_three==2)/np.count_nonzero(J_matrix_three)\n",
    "L_iou_three=np.count_nonzero(L_matrix_three==2)/np.count_nonzero(L_matrix_three)\n",
    "S_iou_three=np.count_nonzero(S_matrix_three==2)/np.count_nonzero(S_matrix_three)\n",
    "Y_iou_three=np.count_nonzero(Y_matrix_three==2)/np.count_nonzero(Y_matrix_three)\n",
    "C_iou_three=np.count_nonzero(C_matrix_three==2)/np.count_nonzero(C_matrix_three)\n",
    "B_iou_three=np.count_nonzero(B_matrix_three==2)/np.count_nonzero(B_matrix_three)\n",
    "print(J_iou_three,L_iou_three,S_iou_three,Y_iou_three,C_iou_three,B_iou_three)"
   ]
  },
  {
   "cell_type": "code",
   "execution_count": null,
   "metadata": {},
   "outputs": [],
   "source": [
    "df=df.append(pd.DataFrame([['three','iou',J_iou_three,L_iou_three,S_iou_three,Y_iou_three,C_iou_three,B_iou_three]], columns=df.columns))\n",
    "df"
   ]
  },
  {
   "cell_type": "code",
   "execution_count": null,
   "metadata": {},
   "outputs": [],
   "source": [
    "J_recall_three=np.count_nonzero(J_matrix_three==2)/np.count_nonzero(ground_truth_three)\n",
    "L_recall_three=np.count_nonzero(L_matrix_three==2)/np.count_nonzero(ground_truth_three)\n",
    "S_recall_three=np.count_nonzero(S_matrix_three==2)/np.count_nonzero(ground_truth_three)\n",
    "Y_recall_three=np.count_nonzero(Y_matrix_three==2)/np.count_nonzero(ground_truth_three)\n",
    "C_recall_three=np.count_nonzero(C_matrix_three==2)/np.count_nonzero(ground_truth_three)\n",
    "B_recall_three=np.count_nonzero(B_matrix_three==2)/np.count_nonzero(ground_truth_three)\n",
    "print(J_recall_three,L_recall_three,S_recall_three,Y_recall_three,C_recall_three,B_recall_three)"
   ]
  },
  {
   "cell_type": "code",
   "execution_count": null,
   "metadata": {},
   "outputs": [],
   "source": [
    "df=df.append(pd.DataFrame([['three','recall',J_recall_three,L_recall_three,S_recall_three,Y_recall_three,C_recall_three,B_recall_three]], columns=df.columns))\n",
    "df"
   ]
  },
  {
   "cell_type": "code",
   "execution_count": null,
   "metadata": {},
   "outputs": [],
   "source": [
    "J_precision_three=np.count_nonzero(J_matrix_three==2)/np.count_nonzero(J_img)\n",
    "L_precision_three=np.count_nonzero(L_matrix_three==2)/np.count_nonzero(L_img)\n",
    "S_precision_three=np.count_nonzero(S_matrix_three==2)/np.count_nonzero(S_img)\n",
    "Y_precision_three=np.count_nonzero(Y_matrix_three==2)/np.count_nonzero(Y_img)\n",
    "C_precision_three=np.count_nonzero(C_matrix_three==2)/np.count_nonzero(closing)\n",
    "B_precision_three=np.count_nonzero(B_matrix_three==2)/np.count_nonzero(best)\n",
    "print(J_precision_three,L_precision_three,S_precision_three,Y_precision_three,C_precision_three,B_precision_three)"
   ]
  },
  {
   "cell_type": "code",
   "execution_count": null,
   "metadata": {},
   "outputs": [],
   "source": [
    "df=df.append(pd.DataFrame([['three','precision',J_precision_three,L_precision_three,S_precision_three,Y_precision_three,C_precision_three,B_precision_three]], columns=df.columns))\n",
    "df"
   ]
  },
  {
   "cell_type": "code",
   "execution_count": null,
   "metadata": {},
   "outputs": [],
   "source": [
    "cv2.imwrite('B_matrix_three.jpg',127*B_matrix_three)"
   ]
  },
  {
   "cell_type": "code",
   "execution_count": null,
   "metadata": {},
   "outputs": [],
   "source": []
  },
  {
   "cell_type": "code",
   "execution_count": null,
   "metadata": {},
   "outputs": [],
   "source": [
    "B_recall_three_jpg=(B_matrix_three==2)*127+ground_truth_three*127\n",
    "cv2.imwrite('B_recall_three.jpg',B_recall_three_jpg)"
   ]
  },
  {
   "cell_type": "code",
   "execution_count": null,
   "metadata": {},
   "outputs": [],
   "source": [
    "B_precision_three_jpg=(B_matrix_three==2)*127+best*127\n",
    "cv2.imwrite('B_precision_three.jpg',B_precision_three_jpg)"
   ]
  },
  {
   "cell_type": "code",
   "execution_count": null,
   "metadata": {},
   "outputs": [],
   "source": [
    "df"
   ]
  },
  {
   "cell_type": "code",
   "execution_count": null,
   "metadata": {},
   "outputs": [],
   "source": [
    "df=df.round(3)\n",
    "df"
   ]
  },
  {
   "cell_type": "code",
   "execution_count": null,
   "metadata": {},
   "outputs": [],
   "source": [
    "color_matrix_three=ground_truth_three+best_2"
   ]
  },
  {
   "cell_type": "code",
   "execution_count": null,
   "metadata": {},
   "outputs": [],
   "source": [
    "color_matrix_stack_three=np.stack((color_matrix_three,color_matrix_three,color_matrix_three),axis=-1)"
   ]
  },
  {
   "cell_type": "code",
   "execution_count": null,
   "metadata": {},
   "outputs": [],
   "source": [
    "color_matrix_stack_three[np.where((color_matrix_stack_three==[0,0,0]).all(axis=2))] = [255,255,255]#white for background\n",
    "color_matrix_stack_three[np.where((color_matrix_stack_three==[1,1,1]).all(axis=2))] = [255,0,0]#blue for groundtruth\n",
    "color_matrix_stack_three[np.where((color_matrix_stack_three==[2,2,2]).all(axis=2))] = [0,0,255]#red for prediction\n",
    "color_matrix_stack_three[np.where((color_matrix_stack_three==[3,3,3]).all(axis=2))] = [0,255,0]#green for overlap"
   ]
  },
  {
   "cell_type": "code",
   "execution_count": null,
   "metadata": {},
   "outputs": [],
   "source": [
    "cv2.imwrite('color_matrix_stack_three.jpg',color_matrix_stack_three)"
   ]
  },
  {
   "cell_type": "markdown",
   "metadata": {},
   "source": [
    "# Comparison with ground truth of 2"
   ]
  },
  {
   "cell_type": "code",
   "execution_count": null,
   "metadata": {},
   "outputs": [],
   "source": [
    "ground_truth_two=two//255"
   ]
  },
  {
   "cell_type": "code",
   "execution_count": null,
   "metadata": {},
   "outputs": [],
   "source": [
    "np.unique(ground_truth_two)"
   ]
  },
  {
   "cell_type": "code",
   "execution_count": null,
   "metadata": {},
   "outputs": [],
   "source": [
    "J_matrix_two=ground_truth_two+J_img\n",
    "L_matrix_two=ground_truth_two+L_img\n",
    "S_matrix_two=ground_truth_two+S_img\n",
    "Y_matrix_two=ground_truth_two+Y_img\n",
    "C_matrix_two=ground_truth_two+closing\n",
    "B_matrix_two=ground_truth_two+best\n",
    "# print(J_matrix_two,L_matrix_two,S_matrix_two,Y_matrix_two,C_matrix_two,B_matrix_two)"
   ]
  },
  {
   "cell_type": "code",
   "execution_count": null,
   "metadata": {},
   "outputs": [],
   "source": [
    "J_iou_two=np.count_nonzero(J_matrix_two==2)/np.count_nonzero(J_matrix_two)\n",
    "L_iou_two=np.count_nonzero(L_matrix_two==2)/np.count_nonzero(L_matrix_two)\n",
    "S_iou_two=np.count_nonzero(S_matrix_two==2)/np.count_nonzero(S_matrix_two)\n",
    "Y_iou_two=np.count_nonzero(Y_matrix_two==2)/np.count_nonzero(Y_matrix_two)\n",
    "C_iou_two=np.count_nonzero(C_matrix_two==2)/np.count_nonzero(C_matrix_two)\n",
    "B_iou_two=np.count_nonzero(B_matrix_two==2)/np.count_nonzero(B_matrix_two)\n",
    "print(J_iou_two,L_iou_two,S_iou_two,Y_iou_two,C_iou_two,B_iou_two)"
   ]
  },
  {
   "cell_type": "code",
   "execution_count": null,
   "metadata": {},
   "outputs": [],
   "source": [
    "df=df.append(pd.DataFrame([['two','iou',J_iou_two,L_iou_two,S_iou_two,Y_iou_two,C_iou_two,B_iou_two]], columns=df.columns))\n",
    "df"
   ]
  },
  {
   "cell_type": "code",
   "execution_count": null,
   "metadata": {},
   "outputs": [],
   "source": [
    "J_recall_two=np.count_nonzero(J_matrix_two==2)/np.count_nonzero(ground_truth_two)\n",
    "L_recall_two=np.count_nonzero(L_matrix_two==2)/np.count_nonzero(ground_truth_two)\n",
    "S_recall_two=np.count_nonzero(S_matrix_two==2)/np.count_nonzero(ground_truth_two)\n",
    "Y_recall_two=np.count_nonzero(Y_matrix_two==2)/np.count_nonzero(ground_truth_two)\n",
    "C_recall_two=np.count_nonzero(C_matrix_two==2)/np.count_nonzero(ground_truth_two)\n",
    "B_recall_two=np.count_nonzero(B_matrix_two==2)/np.count_nonzero(ground_truth_two)\n",
    "print(J_recall_two,L_recall_two,S_recall_two,Y_recall_two,C_recall_two,B_recall_two)"
   ]
  },
  {
   "cell_type": "code",
   "execution_count": null,
   "metadata": {},
   "outputs": [],
   "source": [
    "df=df.append(pd.DataFrame([['two','recall',J_recall_two,L_recall_two,S_recall_two,Y_recall_two,C_recall_two,B_recall_two]], columns=df.columns))\n",
    "df"
   ]
  },
  {
   "cell_type": "code",
   "execution_count": null,
   "metadata": {},
   "outputs": [],
   "source": [
    "J_precision_two=np.count_nonzero(J_matrix_two==2)/np.count_nonzero(J_img)\n",
    "L_precision_two=np.count_nonzero(L_matrix_two==2)/np.count_nonzero(L_img)\n",
    "S_precision_two=np.count_nonzero(S_matrix_two==2)/np.count_nonzero(S_img)\n",
    "Y_precision_two=np.count_nonzero(Y_matrix_two==2)/np.count_nonzero(Y_img)\n",
    "C_precision_two=np.count_nonzero(C_matrix_two==2)/np.count_nonzero(closing)\n",
    "B_precision_two=np.count_nonzero(B_matrix_two==2)/np.count_nonzero(best)\n",
    "print(J_precision_two,L_precision_two,S_precision_two,Y_precision_two,C_precision_two,B_precision_two)"
   ]
  },
  {
   "cell_type": "code",
   "execution_count": null,
   "metadata": {},
   "outputs": [],
   "source": [
    "df=df.append(pd.DataFrame([['two','precision',J_precision_two,L_precision_two,S_precision_two,Y_precision_two,C_precision_two,B_precision_two]], columns=df.columns))\n",
    "df"
   ]
  },
  {
   "cell_type": "code",
   "execution_count": null,
   "metadata": {},
   "outputs": [],
   "source": [
    "cv2.imwrite('B_matrix_two.jpg',127*B_matrix_two)"
   ]
  },
  {
   "cell_type": "code",
   "execution_count": null,
   "metadata": {},
   "outputs": [],
   "source": []
  },
  {
   "cell_type": "code",
   "execution_count": null,
   "metadata": {},
   "outputs": [],
   "source": [
    "B_recall_two_jpg=(B_matrix_two==2)*127+ground_truth_two*127\n",
    "cv2.imwrite('B_recall_two.jpg',B_recall_two_jpg)"
   ]
  },
  {
   "cell_type": "code",
   "execution_count": null,
   "metadata": {},
   "outputs": [],
   "source": [
    "B_precision_two_jpg=(B_matrix_two==2)*127+best*127\n",
    "cv2.imwrite('B_precision_two.jpg',B_precision_two_jpg)"
   ]
  },
  {
   "cell_type": "code",
   "execution_count": null,
   "metadata": {},
   "outputs": [],
   "source": [
    "df"
   ]
  },
  {
   "cell_type": "code",
   "execution_count": null,
   "metadata": {},
   "outputs": [],
   "source": [
    "df=df.round(3)\n",
    "df"
   ]
  },
  {
   "cell_type": "code",
   "execution_count": null,
   "metadata": {},
   "outputs": [],
   "source": [
    "df.to_csv('Accuracy metrics.csv')"
   ]
  },
  {
   "cell_type": "code",
   "execution_count": null,
   "metadata": {},
   "outputs": [],
   "source": []
  },
  {
   "cell_type": "code",
   "execution_count": null,
   "metadata": {},
   "outputs": [],
   "source": [
    "color_matrix_two=ground_truth_two+best_2"
   ]
  },
  {
   "cell_type": "code",
   "execution_count": null,
   "metadata": {},
   "outputs": [],
   "source": [
    "color_matrix_stack_two=np.stack((color_matrix_two,color_matrix_two,color_matrix_two),axis=-1)"
   ]
  },
  {
   "cell_type": "code",
   "execution_count": null,
   "metadata": {},
   "outputs": [],
   "source": [
    "color_matrix_stack_two[np.where((color_matrix_stack_two==[0,0,0]).all(axis=2))] = [255,255,255]#white for background\n",
    "color_matrix_stack_two[np.where((color_matrix_stack_two==[1,1,1]).all(axis=2))] = [255,0,0]#blue for groundtruth\n",
    "color_matrix_stack_two[np.where((color_matrix_stack_two==[2,2,2]).all(axis=2))] = [0,0,255]#red for prediction\n",
    "color_matrix_stack_two[np.where((color_matrix_stack_two==[3,3,3]).all(axis=2))] = [0,255,0]#green for overlap"
   ]
  },
  {
   "cell_type": "code",
   "execution_count": null,
   "metadata": {},
   "outputs": [],
   "source": [
    "cv2.imwrite('color_matrix_stack_two.jpg',color_matrix_stack_two)"
   ]
  },
  {
   "cell_type": "code",
   "execution_count": null,
   "metadata": {},
   "outputs": [],
   "source": []
  }
 ],
 "metadata": {
  "kernelspec": {
   "display_name": "Python 3",
   "language": "python",
   "name": "python3"
  },
  "language_info": {
   "codemirror_mode": {
    "name": "ipython",
    "version": 3
   },
   "file_extension": ".py",
   "mimetype": "text/x-python",
   "name": "python",
   "nbconvert_exporter": "python",
   "pygments_lexer": "ipython3",
   "version": "3.7.4"
  }
 },
 "nbformat": 4,
 "nbformat_minor": 2
}
